{
 "cells": [
  {
   "cell_type": "code",
   "execution_count": 1,
   "id": "fbef3feb",
   "metadata": {},
   "outputs": [],
   "source": [
    "import numpy as np\n",
    "import pandas as pd\n",
    "\n",
    "# \n",
    "from sklearn.model_selection import train_test_split\n",
    "from sklearn.svm import SVC\n",
    "from sklearn.model_selection import GridSearchCV\n",
    "from sklearn import metrics"
   ]
  },
  {
   "cell_type": "code",
   "execution_count": 3,
   "id": "e1447828",
   "metadata": {},
   "outputs": [
    {
     "data": {
      "text/plain": [
       "['arr_0', 'arr_1']"
      ]
     },
     "execution_count": 3,
     "metadata": {},
     "output_type": "execute_result"
    }
   ],
   "source": [
    "# load numpy array\n",
    "data = np.load('../../Docs/2_Train_FaceRecognition_with_ML/2_Train_FaceRecognition_with_ML/data/data_pca_50_target.npz')\n",
    "data.files"
   ]
  },
  {
   "cell_type": "code",
   "execution_count": 4,
   "id": "e374ceb1",
   "metadata": {},
   "outputs": [],
   "source": [
    "data.allow_pickle = True"
   ]
  },
  {
   "cell_type": "code",
   "execution_count": 5,
   "id": "3a87eb87",
   "metadata": {},
   "outputs": [],
   "source": [
    "X = data['arr_0'] # pca data with 50 components\n",
    "y = data['arr_1'] # target or dependent variable"
   ]
  },
  {
   "cell_type": "code",
   "execution_count": 6,
   "id": "b4782644",
   "metadata": {},
   "outputs": [
    {
     "data": {
      "text/plain": [
       "((4317, 50), (4317,))"
      ]
     },
     "execution_count": 6,
     "metadata": {},
     "output_type": "execute_result"
    }
   ],
   "source": [
    "X.shape,y.shape"
   ]
  },
  {
   "cell_type": "code",
   "execution_count": 7,
   "id": "a620abdf",
   "metadata": {},
   "outputs": [
    {
     "data": {
      "text/plain": [
       "array([[ 0.89549457,  0.23437755,  0.25338436, ..., -0.70703568,\n",
       "        -0.243009  , -1.32560633],\n",
       "       [ 1.18719741, -0.25561728,  0.32714895, ...,  0.33371008,\n",
       "         1.37079472,  1.68685826],\n",
       "       [-0.76869338, -0.30290945,  0.34287244, ...,  0.48328162,\n",
       "         1.1147473 ,  1.80028906],\n",
       "       ...,\n",
       "       [ 1.36171648,  0.59420958, -1.23315522, ..., -1.48111111,\n",
       "         1.68062854,  0.65452226],\n",
       "       [-1.21922298, -0.40668835, -0.44891518, ...,  0.58078393,\n",
       "         0.67443973, -0.82093291],\n",
       "       [ 1.26844869,  0.90444299,  0.11894202, ...,  0.02598472,\n",
       "        -0.27616826,  0.46750468]])"
      ]
     },
     "execution_count": 7,
     "metadata": {},
     "output_type": "execute_result"
    }
   ],
   "source": [
    "X"
   ]
  },
  {
   "cell_type": "code",
   "execution_count": 8,
   "id": "2f72d588",
   "metadata": {},
   "outputs": [
    {
     "data": {
      "text/plain": [
       "array(['female', 'female', 'female', ..., 'male', 'male', 'male'],\n",
       "      dtype=object)"
      ]
     },
     "execution_count": 8,
     "metadata": {},
     "output_type": "execute_result"
    }
   ],
   "source": [
    "y"
   ]
  },
  {
   "attachments": {},
   "cell_type": "markdown",
   "id": "9fe7f916",
   "metadata": {},
   "source": [
    "### split the data into train and test"
   ]
  },
  {
   "cell_type": "code",
   "execution_count": 9,
   "id": "99a552f1",
   "metadata": {},
   "outputs": [
    {
     "name": "stdout",
     "output_type": "stream",
     "text": [
      "(3453, 50) (864, 50) (3453,) (864,)\n"
     ]
    }
   ],
   "source": [
    "x_train,x_test, y_train, y_test = train_test_split(X,y,test_size=0.2,stratify=y)\n",
    "\n",
    "print(x_train.shape, x_test.shape, y_train.shape, y_test.shape)"
   ]
  },
  {
   "attachments": {},
   "cell_type": "markdown",
   "id": "d72e2656",
   "metadata": {},
   "source": [
    "### training machine learning model"
   ]
  },
  {
   "cell_type": "code",
   "execution_count": 10,
   "id": "b0bfaa33",
   "metadata": {},
   "outputs": [],
   "source": [
    "model_svc = SVC(probability=True)\n",
    "\n",
    "param_grid = {'C':[0.5,1,10,20,30,50],\n",
    "             'kernel':['rbf','poly'],\n",
    "             'gamma':[0.1,0.05,0.01,0.001,0.002,0.005],\n",
    "             'coef0':[0,1]}"
   ]
  },
  {
   "cell_type": "code",
   "execution_count": 11,
   "id": "9c5805ab",
   "metadata": {},
   "outputs": [],
   "source": [
    "model_grid = GridSearchCV(model_svc,\n",
    "                          param_grid=param_grid,\n",
    "                          scoring='accuracy',cv=3,verbose=2)"
   ]
  },
  {
   "cell_type": "code",
   "execution_count": 12,
   "id": "1815336c",
   "metadata": {},
   "outputs": [
    {
     "name": "stdout",
     "output_type": "stream",
     "text": [
      "Fitting 3 folds for each of 144 candidates, totalling 432 fits\n",
      "[CV] END ..............C=0.5, coef0=0, gamma=0.1, kernel=rbf; total time=   6.7s\n",
      "[CV] END ..............C=0.5, coef0=0, gamma=0.1, kernel=rbf; total time=   6.0s\n",
      "[CV] END ..............C=0.5, coef0=0, gamma=0.1, kernel=rbf; total time=   6.1s\n",
      "[CV] END .............C=0.5, coef0=0, gamma=0.1, kernel=poly; total time=   4.2s\n",
      "[CV] END .............C=0.5, coef0=0, gamma=0.1, kernel=poly; total time=   4.3s\n",
      "[CV] END .............C=0.5, coef0=0, gamma=0.1, kernel=poly; total time=   3.9s\n",
      "[CV] END .............C=0.5, coef0=0, gamma=0.05, kernel=rbf; total time=   5.1s\n",
      "[CV] END .............C=0.5, coef0=0, gamma=0.05, kernel=rbf; total time=   5.1s\n",
      "[CV] END .............C=0.5, coef0=0, gamma=0.05, kernel=rbf; total time=   5.0s\n",
      "[CV] END ............C=0.5, coef0=0, gamma=0.05, kernel=poly; total time=   3.7s\n",
      "[CV] END ............C=0.5, coef0=0, gamma=0.05, kernel=poly; total time=   3.8s\n",
      "[CV] END ............C=0.5, coef0=0, gamma=0.05, kernel=poly; total time=   3.5s\n",
      "[CV] END .............C=0.5, coef0=0, gamma=0.01, kernel=rbf; total time=   4.0s\n",
      "[CV] END .............C=0.5, coef0=0, gamma=0.01, kernel=rbf; total time=   3.8s\n",
      "[CV] END .............C=0.5, coef0=0, gamma=0.01, kernel=rbf; total time=   4.0s\n",
      "[CV] END ............C=0.5, coef0=0, gamma=0.01, kernel=poly; total time=   3.5s\n",
      "[CV] END ............C=0.5, coef0=0, gamma=0.01, kernel=poly; total time=   3.2s\n",
      "[CV] END ............C=0.5, coef0=0, gamma=0.01, kernel=poly; total time=   3.3s\n",
      "[CV] END ............C=0.5, coef0=0, gamma=0.001, kernel=rbf; total time=   4.5s\n",
      "[CV] END ............C=0.5, coef0=0, gamma=0.001, kernel=rbf; total time=   4.6s\n",
      "[CV] END ............C=0.5, coef0=0, gamma=0.001, kernel=rbf; total time=   4.5s\n",
      "[CV] END ...........C=0.5, coef0=0, gamma=0.001, kernel=poly; total time=   2.7s\n",
      "[CV] END ...........C=0.5, coef0=0, gamma=0.001, kernel=poly; total time=   2.8s\n",
      "[CV] END ...........C=0.5, coef0=0, gamma=0.001, kernel=poly; total time=   2.8s\n",
      "[CV] END ............C=0.5, coef0=0, gamma=0.002, kernel=rbf; total time=   4.2s\n",
      "[CV] END ............C=0.5, coef0=0, gamma=0.002, kernel=rbf; total time=   4.2s\n",
      "[CV] END ............C=0.5, coef0=0, gamma=0.002, kernel=rbf; total time=   4.5s\n",
      "[CV] END ...........C=0.5, coef0=0, gamma=0.002, kernel=poly; total time=   3.1s\n",
      "[CV] END ...........C=0.5, coef0=0, gamma=0.002, kernel=poly; total time=   3.2s\n",
      "[CV] END ...........C=0.5, coef0=0, gamma=0.002, kernel=poly; total time=   3.0s\n",
      "[CV] END ............C=0.5, coef0=0, gamma=0.005, kernel=rbf; total time=   4.2s\n",
      "[CV] END ............C=0.5, coef0=0, gamma=0.005, kernel=rbf; total time=   4.0s\n",
      "[CV] END ............C=0.5, coef0=0, gamma=0.005, kernel=rbf; total time=   4.0s\n",
      "[CV] END ...........C=0.5, coef0=0, gamma=0.005, kernel=poly; total time=   3.1s\n",
      "[CV] END ...........C=0.5, coef0=0, gamma=0.005, kernel=poly; total time=   3.1s\n",
      "[CV] END ...........C=0.5, coef0=0, gamma=0.005, kernel=poly; total time=   3.2s\n",
      "[CV] END ..............C=0.5, coef0=1, gamma=0.1, kernel=rbf; total time=   5.9s\n",
      "[CV] END ..............C=0.5, coef0=1, gamma=0.1, kernel=rbf; total time=   5.8s\n",
      "[CV] END ..............C=0.5, coef0=1, gamma=0.1, kernel=rbf; total time=   5.7s\n",
      "[CV] END .............C=0.5, coef0=1, gamma=0.1, kernel=poly; total time=   3.3s\n",
      "[CV] END .............C=0.5, coef0=1, gamma=0.1, kernel=poly; total time=   3.3s\n",
      "[CV] END .............C=0.5, coef0=1, gamma=0.1, kernel=poly; total time=   3.5s\n",
      "[CV] END .............C=0.5, coef0=1, gamma=0.05, kernel=rbf; total time=   4.9s\n",
      "[CV] END .............C=0.5, coef0=1, gamma=0.05, kernel=rbf; total time=   4.8s\n",
      "[CV] END .............C=0.5, coef0=1, gamma=0.05, kernel=rbf; total time=   4.9s\n",
      "[CV] END ............C=0.5, coef0=1, gamma=0.05, kernel=poly; total time=   3.1s\n",
      "[CV] END ............C=0.5, coef0=1, gamma=0.05, kernel=poly; total time=   3.2s\n",
      "[CV] END ............C=0.5, coef0=1, gamma=0.05, kernel=poly; total time=   3.1s\n",
      "[CV] END .............C=0.5, coef0=1, gamma=0.01, kernel=rbf; total time=   3.9s\n",
      "[CV] END .............C=0.5, coef0=1, gamma=0.01, kernel=rbf; total time=   3.8s\n",
      "[CV] END .............C=0.5, coef0=1, gamma=0.01, kernel=rbf; total time=   3.8s\n",
      "[CV] END ............C=0.5, coef0=1, gamma=0.01, kernel=poly; total time=   2.3s\n",
      "[CV] END ............C=0.5, coef0=1, gamma=0.01, kernel=poly; total time=   2.3s\n",
      "[CV] END ............C=0.5, coef0=1, gamma=0.01, kernel=poly; total time=   2.4s\n",
      "[CV] END ............C=0.5, coef0=1, gamma=0.001, kernel=rbf; total time=   4.6s\n",
      "[CV] END ............C=0.5, coef0=1, gamma=0.001, kernel=rbf; total time=   4.5s\n",
      "[CV] END ............C=0.5, coef0=1, gamma=0.001, kernel=rbf; total time=   4.6s\n",
      "[CV] END ...........C=0.5, coef0=1, gamma=0.001, kernel=poly; total time=   2.5s\n",
      "[CV] END ...........C=0.5, coef0=1, gamma=0.001, kernel=poly; total time=   2.5s\n",
      "[CV] END ...........C=0.5, coef0=1, gamma=0.001, kernel=poly; total time=   2.4s\n",
      "[CV] END ............C=0.5, coef0=1, gamma=0.002, kernel=rbf; total time=   5.5s\n",
      "[CV] END ............C=0.5, coef0=1, gamma=0.002, kernel=rbf; total time=   4.2s\n",
      "[CV] END ............C=0.5, coef0=1, gamma=0.002, kernel=rbf; total time=   4.2s\n",
      "[CV] END ...........C=0.5, coef0=1, gamma=0.002, kernel=poly; total time=   2.3s\n",
      "[CV] END ...........C=0.5, coef0=1, gamma=0.002, kernel=poly; total time=   2.4s\n",
      "[CV] END ...........C=0.5, coef0=1, gamma=0.002, kernel=poly; total time=   2.4s\n",
      "[CV] END ............C=0.5, coef0=1, gamma=0.005, kernel=rbf; total time=   4.0s\n",
      "[CV] END ............C=0.5, coef0=1, gamma=0.005, kernel=rbf; total time=   3.7s\n",
      "[CV] END ............C=0.5, coef0=1, gamma=0.005, kernel=rbf; total time=   3.7s\n",
      "[CV] END ...........C=0.5, coef0=1, gamma=0.005, kernel=poly; total time=   2.1s\n",
      "[CV] END ...........C=0.5, coef0=1, gamma=0.005, kernel=poly; total time=   2.1s\n",
      "[CV] END ...........C=0.5, coef0=1, gamma=0.005, kernel=poly; total time=   2.1s\n",
      "[CV] END ................C=1, coef0=0, gamma=0.1, kernel=rbf; total time=   5.8s\n",
      "[CV] END ................C=1, coef0=0, gamma=0.1, kernel=rbf; total time=   5.7s\n",
      "[CV] END ................C=1, coef0=0, gamma=0.1, kernel=rbf; total time=   6.1s\n",
      "[CV] END ...............C=1, coef0=0, gamma=0.1, kernel=poly; total time=   3.8s\n",
      "[CV] END ...............C=1, coef0=0, gamma=0.1, kernel=poly; total time=   3.7s\n",
      "[CV] END ...............C=1, coef0=0, gamma=0.1, kernel=poly; total time=   3.7s\n",
      "[CV] END ...............C=1, coef0=0, gamma=0.05, kernel=rbf; total time=   5.3s\n",
      "[CV] END ...............C=1, coef0=0, gamma=0.05, kernel=rbf; total time=   5.3s\n",
      "[CV] END ...............C=1, coef0=0, gamma=0.05, kernel=rbf; total time=   5.2s\n",
      "[CV] END ..............C=1, coef0=0, gamma=0.05, kernel=poly; total time=   3.4s\n",
      "[CV] END ..............C=1, coef0=0, gamma=0.05, kernel=poly; total time=   3.3s\n",
      "[CV] END ..............C=1, coef0=0, gamma=0.05, kernel=poly; total time=   3.5s\n",
      "[CV] END ...............C=1, coef0=0, gamma=0.01, kernel=rbf; total time=   3.6s\n",
      "[CV] END ...............C=1, coef0=0, gamma=0.01, kernel=rbf; total time=   3.7s\n",
      "[CV] END ...............C=1, coef0=0, gamma=0.01, kernel=rbf; total time=   3.6s\n",
      "[CV] END ..............C=1, coef0=0, gamma=0.01, kernel=poly; total time=   3.2s\n",
      "[CV] END ..............C=1, coef0=0, gamma=0.01, kernel=poly; total time=   3.5s\n",
      "[CV] END ..............C=1, coef0=0, gamma=0.01, kernel=poly; total time=   3.1s\n",
      "[CV] END ..............C=1, coef0=0, gamma=0.001, kernel=rbf; total time=   4.1s\n",
      "[CV] END ..............C=1, coef0=0, gamma=0.001, kernel=rbf; total time=   4.3s\n",
      "[CV] END ..............C=1, coef0=0, gamma=0.001, kernel=rbf; total time=   4.3s\n",
      "[CV] END .............C=1, coef0=0, gamma=0.001, kernel=poly; total time=   2.6s\n",
      "[CV] END .............C=1, coef0=0, gamma=0.001, kernel=poly; total time=   2.6s\n",
      "[CV] END .............C=1, coef0=0, gamma=0.001, kernel=poly; total time=   2.7s\n",
      "[CV] END ..............C=1, coef0=0, gamma=0.002, kernel=rbf; total time=   3.8s\n",
      "[CV] END ..............C=1, coef0=0, gamma=0.002, kernel=rbf; total time=   3.8s\n",
      "[CV] END ..............C=1, coef0=0, gamma=0.002, kernel=rbf; total time=   3.7s\n",
      "[CV] END .............C=1, coef0=0, gamma=0.002, kernel=poly; total time=   2.9s\n",
      "[CV] END .............C=1, coef0=0, gamma=0.002, kernel=poly; total time=   2.9s\n",
      "[CV] END .............C=1, coef0=0, gamma=0.002, kernel=poly; total time=   2.8s\n",
      "[CV] END ..............C=1, coef0=0, gamma=0.005, kernel=rbf; total time=   3.5s\n",
      "[CV] END ..............C=1, coef0=0, gamma=0.005, kernel=rbf; total time=   3.5s\n",
      "[CV] END ..............C=1, coef0=0, gamma=0.005, kernel=rbf; total time=   3.6s\n",
      "[CV] END .............C=1, coef0=0, gamma=0.005, kernel=poly; total time=   3.3s\n",
      "[CV] END .............C=1, coef0=0, gamma=0.005, kernel=poly; total time=   3.1s\n",
      "[CV] END .............C=1, coef0=0, gamma=0.005, kernel=poly; total time=   3.0s\n",
      "[CV] END ................C=1, coef0=1, gamma=0.1, kernel=rbf; total time=   6.5s\n",
      "[CV] END ................C=1, coef0=1, gamma=0.1, kernel=rbf; total time=   6.1s\n",
      "[CV] END ................C=1, coef0=1, gamma=0.1, kernel=rbf; total time=   5.6s\n",
      "[CV] END ...............C=1, coef0=1, gamma=0.1, kernel=poly; total time=   3.0s\n",
      "[CV] END ...............C=1, coef0=1, gamma=0.1, kernel=poly; total time=   3.1s\n",
      "[CV] END ...............C=1, coef0=1, gamma=0.1, kernel=poly; total time=   3.2s\n",
      "[CV] END ...............C=1, coef0=1, gamma=0.05, kernel=rbf; total time=   5.8s\n",
      "[CV] END ...............C=1, coef0=1, gamma=0.05, kernel=rbf; total time=   6.1s\n",
      "[CV] END ...............C=1, coef0=1, gamma=0.05, kernel=rbf; total time=   5.3s\n",
      "[CV] END ..............C=1, coef0=1, gamma=0.05, kernel=poly; total time=   3.1s\n",
      "[CV] END ..............C=1, coef0=1, gamma=0.05, kernel=poly; total time=   3.1s\n",
      "[CV] END ..............C=1, coef0=1, gamma=0.05, kernel=poly; total time=   3.7s\n",
      "[CV] END ...............C=1, coef0=1, gamma=0.01, kernel=rbf; total time=   4.2s\n",
      "[CV] END ...............C=1, coef0=1, gamma=0.01, kernel=rbf; total time=   3.7s\n",
      "[CV] END ...............C=1, coef0=1, gamma=0.01, kernel=rbf; total time=   3.7s\n",
      "[CV] END ..............C=1, coef0=1, gamma=0.01, kernel=poly; total time=   2.5s\n",
      "[CV] END ..............C=1, coef0=1, gamma=0.01, kernel=poly; total time=   2.4s\n",
      "[CV] END ..............C=1, coef0=1, gamma=0.01, kernel=poly; total time=   2.6s\n",
      "[CV] END ..............C=1, coef0=1, gamma=0.001, kernel=rbf; total time=   4.3s\n",
      "[CV] END ..............C=1, coef0=1, gamma=0.001, kernel=rbf; total time=   4.0s\n",
      "[CV] END ..............C=1, coef0=1, gamma=0.001, kernel=rbf; total time=   4.0s\n",
      "[CV] END .............C=1, coef0=1, gamma=0.001, kernel=poly; total time=   2.3s\n",
      "[CV] END .............C=1, coef0=1, gamma=0.001, kernel=poly; total time=   2.2s\n",
      "[CV] END .............C=1, coef0=1, gamma=0.001, kernel=poly; total time=   2.4s\n",
      "[CV] END ..............C=1, coef0=1, gamma=0.002, kernel=rbf; total time=   3.8s\n",
      "[CV] END ..............C=1, coef0=1, gamma=0.002, kernel=rbf; total time=   3.8s\n",
      "[CV] END ..............C=1, coef0=1, gamma=0.002, kernel=rbf; total time=   3.8s\n",
      "[CV] END .............C=1, coef0=1, gamma=0.002, kernel=poly; total time=   2.1s\n",
      "[CV] END .............C=1, coef0=1, gamma=0.002, kernel=poly; total time=   2.2s\n",
      "[CV] END .............C=1, coef0=1, gamma=0.002, kernel=poly; total time=   2.3s\n",
      "[CV] END ..............C=1, coef0=1, gamma=0.005, kernel=rbf; total time=   3.5s\n",
      "[CV] END ..............C=1, coef0=1, gamma=0.005, kernel=rbf; total time=   3.5s\n",
      "[CV] END ..............C=1, coef0=1, gamma=0.005, kernel=rbf; total time=   3.5s\n",
      "[CV] END .............C=1, coef0=1, gamma=0.005, kernel=poly; total time=   2.2s\n",
      "[CV] END .............C=1, coef0=1, gamma=0.005, kernel=poly; total time=   2.2s\n",
      "[CV] END .............C=1, coef0=1, gamma=0.005, kernel=poly; total time=   2.2s\n",
      "[CV] END ...............C=10, coef0=0, gamma=0.1, kernel=rbf; total time=   5.4s\n",
      "[CV] END ...............C=10, coef0=0, gamma=0.1, kernel=rbf; total time=   5.5s\n",
      "[CV] END ...............C=10, coef0=0, gamma=0.1, kernel=rbf; total time=   5.4s\n",
      "[CV] END ..............C=10, coef0=0, gamma=0.1, kernel=poly; total time=   3.6s\n",
      "[CV] END ..............C=10, coef0=0, gamma=0.1, kernel=poly; total time=   3.7s\n",
      "[CV] END ..............C=10, coef0=0, gamma=0.1, kernel=poly; total time=   3.6s\n",
      "[CV] END ..............C=10, coef0=0, gamma=0.05, kernel=rbf; total time=   5.3s\n",
      "[CV] END ..............C=10, coef0=0, gamma=0.05, kernel=rbf; total time=   5.4s\n",
      "[CV] END ..............C=10, coef0=0, gamma=0.05, kernel=rbf; total time=   5.6s\n",
      "[CV] END .............C=10, coef0=0, gamma=0.05, kernel=poly; total time=   3.8s\n",
      "[CV] END .............C=10, coef0=0, gamma=0.05, kernel=poly; total time=   3.7s\n",
      "[CV] END .............C=10, coef0=0, gamma=0.05, kernel=poly; total time=   4.0s\n",
      "[CV] END ..............C=10, coef0=0, gamma=0.01, kernel=rbf; total time=   4.5s\n",
      "[CV] END ..............C=10, coef0=0, gamma=0.01, kernel=rbf; total time=   4.6s\n",
      "[CV] END ..............C=10, coef0=0, gamma=0.01, kernel=rbf; total time=   4.4s\n",
      "[CV] END .............C=10, coef0=0, gamma=0.01, kernel=poly; total time=   3.2s\n",
      "[CV] END .............C=10, coef0=0, gamma=0.01, kernel=poly; total time=   3.1s\n",
      "[CV] END .............C=10, coef0=0, gamma=0.01, kernel=poly; total time=   3.2s\n",
      "[CV] END .............C=10, coef0=0, gamma=0.001, kernel=rbf; total time=   3.7s\n",
      "[CV] END .............C=10, coef0=0, gamma=0.001, kernel=rbf; total time=   3.4s\n",
      "[CV] END .............C=10, coef0=0, gamma=0.001, kernel=rbf; total time=   3.4s\n",
      "[CV] END ............C=10, coef0=0, gamma=0.001, kernel=poly; total time=   2.8s\n",
      "[CV] END ............C=10, coef0=0, gamma=0.001, kernel=poly; total time=   2.8s\n",
      "[CV] END ............C=10, coef0=0, gamma=0.001, kernel=poly; total time=   2.7s\n",
      "[CV] END .............C=10, coef0=0, gamma=0.002, kernel=rbf; total time=   3.8s\n",
      "[CV] END .............C=10, coef0=0, gamma=0.002, kernel=rbf; total time=   3.6s\n",
      "[CV] END .............C=10, coef0=0, gamma=0.002, kernel=rbf; total time=   3.5s\n",
      "[CV] END ............C=10, coef0=0, gamma=0.002, kernel=poly; total time=   2.9s\n",
      "[CV] END ............C=10, coef0=0, gamma=0.002, kernel=poly; total time=   3.0s\n",
      "[CV] END ............C=10, coef0=0, gamma=0.002, kernel=poly; total time=   3.1s\n",
      "[CV] END .............C=10, coef0=0, gamma=0.005, kernel=rbf; total time=   3.8s\n",
      "[CV] END .............C=10, coef0=0, gamma=0.005, kernel=rbf; total time=   3.8s\n",
      "[CV] END .............C=10, coef0=0, gamma=0.005, kernel=rbf; total time=   3.9s\n",
      "[CV] END ............C=10, coef0=0, gamma=0.005, kernel=poly; total time=   3.1s\n",
      "[CV] END ............C=10, coef0=0, gamma=0.005, kernel=poly; total time=   3.2s\n",
      "[CV] END ............C=10, coef0=0, gamma=0.005, kernel=poly; total time=   3.1s\n",
      "[CV] END ...............C=10, coef0=1, gamma=0.1, kernel=rbf; total time=   5.7s\n",
      "[CV] END ...............C=10, coef0=1, gamma=0.1, kernel=rbf; total time=   5.4s\n",
      "[CV] END ...............C=10, coef0=1, gamma=0.1, kernel=rbf; total time=   5.5s\n",
      "[CV] END ..............C=10, coef0=1, gamma=0.1, kernel=poly; total time=   3.5s\n",
      "[CV] END ..............C=10, coef0=1, gamma=0.1, kernel=poly; total time=   3.0s\n",
      "[CV] END ..............C=10, coef0=1, gamma=0.1, kernel=poly; total time=   3.0s\n",
      "[CV] END ..............C=10, coef0=1, gamma=0.05, kernel=rbf; total time=   5.2s\n",
      "[CV] END ..............C=10, coef0=1, gamma=0.05, kernel=rbf; total time=   5.3s\n",
      "[CV] END ..............C=10, coef0=1, gamma=0.05, kernel=rbf; total time=   5.3s\n",
      "[CV] END .............C=10, coef0=1, gamma=0.05, kernel=poly; total time=   3.0s\n",
      "[CV] END .............C=10, coef0=1, gamma=0.05, kernel=poly; total time=   3.4s\n",
      "[CV] END .............C=10, coef0=1, gamma=0.05, kernel=poly; total time=   3.2s\n",
      "[CV] END ..............C=10, coef0=1, gamma=0.01, kernel=rbf; total time=   4.3s\n",
      "[CV] END ..............C=10, coef0=1, gamma=0.01, kernel=rbf; total time=   4.2s\n",
      "[CV] END ..............C=10, coef0=1, gamma=0.01, kernel=rbf; total time=   4.3s\n",
      "[CV] END .............C=10, coef0=1, gamma=0.01, kernel=poly; total time=   3.5s\n",
      "[CV] END .............C=10, coef0=1, gamma=0.01, kernel=poly; total time=   3.6s\n",
      "[CV] END .............C=10, coef0=1, gamma=0.01, kernel=poly; total time=   3.5s\n",
      "[CV] END .............C=10, coef0=1, gamma=0.001, kernel=rbf; total time=   3.9s\n",
      "[CV] END .............C=10, coef0=1, gamma=0.001, kernel=rbf; total time=   3.3s\n",
      "[CV] END .............C=10, coef0=1, gamma=0.001, kernel=rbf; total time=   3.4s\n",
      "[CV] END ............C=10, coef0=1, gamma=0.001, kernel=poly; total time=   2.3s\n",
      "[CV] END ............C=10, coef0=1, gamma=0.001, kernel=poly; total time=   2.3s\n",
      "[CV] END ............C=10, coef0=1, gamma=0.001, kernel=poly; total time=   2.3s\n",
      "[CV] END .............C=10, coef0=1, gamma=0.002, kernel=rbf; total time=   3.6s\n",
      "[CV] END .............C=10, coef0=1, gamma=0.002, kernel=rbf; total time=   3.5s\n",
      "[CV] END .............C=10, coef0=1, gamma=0.002, kernel=rbf; total time=   3.5s\n",
      "[CV] END ............C=10, coef0=1, gamma=0.002, kernel=poly; total time=   2.5s\n",
      "[CV] END ............C=10, coef0=1, gamma=0.002, kernel=poly; total time=   2.5s\n",
      "[CV] END ............C=10, coef0=1, gamma=0.002, kernel=poly; total time=   2.7s\n",
      "[CV] END .............C=10, coef0=1, gamma=0.005, kernel=rbf; total time=   3.8s\n",
      "[CV] END .............C=10, coef0=1, gamma=0.005, kernel=rbf; total time=   3.9s\n",
      "[CV] END .............C=10, coef0=1, gamma=0.005, kernel=rbf; total time=   3.9s\n",
      "[CV] END ............C=10, coef0=1, gamma=0.005, kernel=poly; total time=   3.2s\n",
      "[CV] END ............C=10, coef0=1, gamma=0.005, kernel=poly; total time=   3.1s\n",
      "[CV] END ............C=10, coef0=1, gamma=0.005, kernel=poly; total time=   3.1s\n",
      "[CV] END ...............C=20, coef0=0, gamma=0.1, kernel=rbf; total time=   5.6s\n",
      "[CV] END ...............C=20, coef0=0, gamma=0.1, kernel=rbf; total time=   6.0s\n",
      "[CV] END ...............C=20, coef0=0, gamma=0.1, kernel=rbf; total time=   5.7s\n",
      "[CV] END ..............C=20, coef0=0, gamma=0.1, kernel=poly; total time=   3.4s\n",
      "[CV] END ..............C=20, coef0=0, gamma=0.1, kernel=poly; total time=   3.8s\n",
      "[CV] END ..............C=20, coef0=0, gamma=0.1, kernel=poly; total time=   3.7s\n",
      "[CV] END ..............C=20, coef0=0, gamma=0.05, kernel=rbf; total time=   5.1s\n",
      "[CV] END ..............C=20, coef0=0, gamma=0.05, kernel=rbf; total time=   5.2s\n",
      "[CV] END ..............C=20, coef0=0, gamma=0.05, kernel=rbf; total time=   5.3s\n",
      "[CV] END .............C=20, coef0=0, gamma=0.05, kernel=poly; total time=   3.9s\n",
      "[CV] END .............C=20, coef0=0, gamma=0.05, kernel=poly; total time=   4.5s\n",
      "[CV] END .............C=20, coef0=0, gamma=0.05, kernel=poly; total time=   4.2s\n",
      "[CV] END ..............C=20, coef0=0, gamma=0.01, kernel=rbf; total time=   6.0s\n",
      "[CV] END ..............C=20, coef0=0, gamma=0.01, kernel=rbf; total time=   5.9s\n",
      "[CV] END ..............C=20, coef0=0, gamma=0.01, kernel=rbf; total time=   5.6s\n",
      "[CV] END .............C=20, coef0=0, gamma=0.01, kernel=poly; total time=   3.7s\n",
      "[CV] END .............C=20, coef0=0, gamma=0.01, kernel=poly; total time=   4.0s\n",
      "[CV] END .............C=20, coef0=0, gamma=0.01, kernel=poly; total time=   3.8s\n",
      "[CV] END .............C=20, coef0=0, gamma=0.001, kernel=rbf; total time=   4.3s\n",
      "[CV] END .............C=20, coef0=0, gamma=0.001, kernel=rbf; total time=   4.3s\n",
      "[CV] END .............C=20, coef0=0, gamma=0.001, kernel=rbf; total time=   4.7s\n",
      "[CV] END ............C=20, coef0=0, gamma=0.001, kernel=poly; total time=   3.9s\n",
      "[CV] END ............C=20, coef0=0, gamma=0.001, kernel=poly; total time=   3.4s\n",
      "[CV] END ............C=20, coef0=0, gamma=0.001, kernel=poly; total time=   4.0s\n",
      "[CV] END .............C=20, coef0=0, gamma=0.002, kernel=rbf; total time=   4.4s\n",
      "[CV] END .............C=20, coef0=0, gamma=0.002, kernel=rbf; total time=   4.6s\n",
      "[CV] END .............C=20, coef0=0, gamma=0.002, kernel=rbf; total time=   5.0s\n",
      "[CV] END ............C=20, coef0=0, gamma=0.002, kernel=poly; total time=   3.4s\n",
      "[CV] END ............C=20, coef0=0, gamma=0.002, kernel=poly; total time=   3.5s\n",
      "[CV] END ............C=20, coef0=0, gamma=0.002, kernel=poly; total time=   3.5s\n",
      "[CV] END .............C=20, coef0=0, gamma=0.005, kernel=rbf; total time=   5.2s\n",
      "[CV] END .............C=20, coef0=0, gamma=0.005, kernel=rbf; total time=   5.5s\n",
      "[CV] END .............C=20, coef0=0, gamma=0.005, kernel=rbf; total time=   5.3s\n",
      "[CV] END ............C=20, coef0=0, gamma=0.005, kernel=poly; total time=   3.2s\n",
      "[CV] END ............C=20, coef0=0, gamma=0.005, kernel=poly; total time=   3.2s\n",
      "[CV] END ............C=20, coef0=0, gamma=0.005, kernel=poly; total time=   3.2s\n",
      "[CV] END ...............C=20, coef0=1, gamma=0.1, kernel=rbf; total time=   5.3s\n",
      "[CV] END ...............C=20, coef0=1, gamma=0.1, kernel=rbf; total time=   5.4s\n",
      "[CV] END ...............C=20, coef0=1, gamma=0.1, kernel=rbf; total time=   5.4s\n",
      "[CV] END ..............C=20, coef0=1, gamma=0.1, kernel=poly; total time=   3.0s\n",
      "[CV] END ..............C=20, coef0=1, gamma=0.1, kernel=poly; total time=   3.4s\n",
      "[CV] END ..............C=20, coef0=1, gamma=0.1, kernel=poly; total time=   3.0s\n",
      "[CV] END ..............C=20, coef0=1, gamma=0.05, kernel=rbf; total time=   5.2s\n",
      "[CV] END ..............C=20, coef0=1, gamma=0.05, kernel=rbf; total time=   5.4s\n",
      "[CV] END ..............C=20, coef0=1, gamma=0.05, kernel=rbf; total time=   5.3s\n",
      "[CV] END .............C=20, coef0=1, gamma=0.05, kernel=poly; total time=   3.1s\n",
      "[CV] END .............C=20, coef0=1, gamma=0.05, kernel=poly; total time=   3.1s\n",
      "[CV] END .............C=20, coef0=1, gamma=0.05, kernel=poly; total time=   3.1s\n",
      "[CV] END ..............C=20, coef0=1, gamma=0.01, kernel=rbf; total time=   5.1s\n",
      "[CV] END ..............C=20, coef0=1, gamma=0.01, kernel=rbf; total time=   4.9s\n",
      "[CV] END ..............C=20, coef0=1, gamma=0.01, kernel=rbf; total time=   5.0s\n",
      "[CV] END .............C=20, coef0=1, gamma=0.01, kernel=poly; total time=   3.7s\n",
      "[CV] END .............C=20, coef0=1, gamma=0.01, kernel=poly; total time=   3.9s\n",
      "[CV] END .............C=20, coef0=1, gamma=0.01, kernel=poly; total time=   4.0s\n",
      "[CV] END .............C=20, coef0=1, gamma=0.001, kernel=rbf; total time=   3.9s\n",
      "[CV] END .............C=20, coef0=1, gamma=0.001, kernel=rbf; total time=   3.5s\n",
      "[CV] END .............C=20, coef0=1, gamma=0.001, kernel=rbf; total time=   3.6s\n",
      "[CV] END ............C=20, coef0=1, gamma=0.001, kernel=poly; total time=   2.4s\n",
      "[CV] END ............C=20, coef0=1, gamma=0.001, kernel=poly; total time=   2.5s\n",
      "[CV] END ............C=20, coef0=1, gamma=0.001, kernel=poly; total time=   2.4s\n",
      "[CV] END .............C=20, coef0=1, gamma=0.002, kernel=rbf; total time=   3.9s\n",
      "[CV] END .............C=20, coef0=1, gamma=0.002, kernel=rbf; total time=   3.8s\n",
      "[CV] END .............C=20, coef0=1, gamma=0.002, kernel=rbf; total time=   3.8s\n",
      "[CV] END ............C=20, coef0=1, gamma=0.002, kernel=poly; total time=   2.9s\n",
      "[CV] END ............C=20, coef0=1, gamma=0.002, kernel=poly; total time=   3.0s\n",
      "[CV] END ............C=20, coef0=1, gamma=0.002, kernel=poly; total time=   3.0s\n",
      "[CV] END .............C=20, coef0=1, gamma=0.005, kernel=rbf; total time=   4.4s\n",
      "[CV] END .............C=20, coef0=1, gamma=0.005, kernel=rbf; total time=   4.3s\n",
      "[CV] END .............C=20, coef0=1, gamma=0.005, kernel=rbf; total time=   4.4s\n",
      "[CV] END ............C=20, coef0=1, gamma=0.005, kernel=poly; total time=   3.9s\n",
      "[CV] END ............C=20, coef0=1, gamma=0.005, kernel=poly; total time=   4.1s\n",
      "[CV] END ............C=20, coef0=1, gamma=0.005, kernel=poly; total time=   3.9s\n",
      "[CV] END ...............C=30, coef0=0, gamma=0.1, kernel=rbf; total time=   6.2s\n",
      "[CV] END ...............C=30, coef0=0, gamma=0.1, kernel=rbf; total time=  13.9s\n",
      "[CV] END ...............C=30, coef0=0, gamma=0.1, kernel=rbf; total time=  12.9s\n",
      "[CV] END ..............C=30, coef0=0, gamma=0.1, kernel=poly; total time=   9.0s\n",
      "[CV] END ..............C=30, coef0=0, gamma=0.1, kernel=poly; total time=   7.5s\n",
      "[CV] END ..............C=30, coef0=0, gamma=0.1, kernel=poly; total time=   4.4s\n",
      "[CV] END ..............C=30, coef0=0, gamma=0.05, kernel=rbf; total time=   6.8s\n",
      "[CV] END ..............C=30, coef0=0, gamma=0.05, kernel=rbf; total time=   6.5s\n",
      "[CV] END ..............C=30, coef0=0, gamma=0.05, kernel=rbf; total time=   5.6s\n",
      "[CV] END .............C=30, coef0=0, gamma=0.05, kernel=poly; total time=   3.5s\n",
      "[CV] END .............C=30, coef0=0, gamma=0.05, kernel=poly; total time=   3.7s\n",
      "[CV] END .............C=30, coef0=0, gamma=0.05, kernel=poly; total time=   3.5s\n",
      "[CV] END ..............C=30, coef0=0, gamma=0.01, kernel=rbf; total time=   4.3s\n",
      "[CV] END ..............C=30, coef0=0, gamma=0.01, kernel=rbf; total time=   4.1s\n",
      "[CV] END ..............C=30, coef0=0, gamma=0.01, kernel=rbf; total time=   4.1s\n",
      "[CV] END .............C=30, coef0=0, gamma=0.01, kernel=poly; total time=   2.7s\n",
      "[CV] END .............C=30, coef0=0, gamma=0.01, kernel=poly; total time=   2.8s\n",
      "[CV] END .............C=30, coef0=0, gamma=0.01, kernel=poly; total time=   3.1s\n",
      "[CV] END .............C=30, coef0=0, gamma=0.001, kernel=rbf; total time=   3.6s\n",
      "[CV] END .............C=30, coef0=0, gamma=0.001, kernel=rbf; total time=   3.5s\n",
      "[CV] END .............C=30, coef0=0, gamma=0.001, kernel=rbf; total time=   3.5s\n",
      "[CV] END ............C=30, coef0=0, gamma=0.001, kernel=poly; total time=   2.9s\n",
      "[CV] END ............C=30, coef0=0, gamma=0.001, kernel=poly; total time=   2.8s\n",
      "[CV] END ............C=30, coef0=0, gamma=0.001, kernel=poly; total time=   3.0s\n",
      "[CV] END .............C=30, coef0=0, gamma=0.002, kernel=rbf; total time=   4.0s\n",
      "[CV] END .............C=30, coef0=0, gamma=0.002, kernel=rbf; total time=   3.9s\n",
      "[CV] END .............C=30, coef0=0, gamma=0.002, kernel=rbf; total time=   3.9s\n",
      "[CV] END ............C=30, coef0=0, gamma=0.002, kernel=poly; total time=   2.8s\n",
      "[CV] END ............C=30, coef0=0, gamma=0.002, kernel=poly; total time=   3.0s\n",
      "[CV] END ............C=30, coef0=0, gamma=0.002, kernel=poly; total time=   3.0s\n",
      "[CV] END .............C=30, coef0=0, gamma=0.005, kernel=rbf; total time=   4.5s\n",
      "[CV] END .............C=30, coef0=0, gamma=0.005, kernel=rbf; total time=   4.3s\n",
      "[CV] END .............C=30, coef0=0, gamma=0.005, kernel=rbf; total time=   3.7s\n",
      "[CV] END ............C=30, coef0=0, gamma=0.005, kernel=poly; total time=   2.5s\n",
      "[CV] END ............C=30, coef0=0, gamma=0.005, kernel=poly; total time=   2.5s\n",
      "[CV] END ............C=30, coef0=0, gamma=0.005, kernel=poly; total time=   2.6s\n",
      "[CV] END ...............C=30, coef0=1, gamma=0.1, kernel=rbf; total time=   4.0s\n",
      "[CV] END ...............C=30, coef0=1, gamma=0.1, kernel=rbf; total time=   5.2s\n",
      "[CV] END ...............C=30, coef0=1, gamma=0.1, kernel=rbf; total time=   5.1s\n",
      "[CV] END ..............C=30, coef0=1, gamma=0.1, kernel=poly; total time=   2.9s\n",
      "[CV] END ..............C=30, coef0=1, gamma=0.1, kernel=poly; total time=   3.0s\n",
      "[CV] END ..............C=30, coef0=1, gamma=0.1, kernel=poly; total time=   3.0s\n",
      "[CV] END ..............C=30, coef0=1, gamma=0.05, kernel=rbf; total time=   5.1s\n",
      "[CV] END ..............C=30, coef0=1, gamma=0.05, kernel=rbf; total time=   5.0s\n",
      "[CV] END ..............C=30, coef0=1, gamma=0.05, kernel=rbf; total time=   5.0s\n",
      "[CV] END .............C=30, coef0=1, gamma=0.05, kernel=poly; total time=   3.0s\n",
      "[CV] END .............C=30, coef0=1, gamma=0.05, kernel=poly; total time=   2.9s\n",
      "[CV] END .............C=30, coef0=1, gamma=0.05, kernel=poly; total time=   2.9s\n",
      "[CV] END ..............C=30, coef0=1, gamma=0.01, kernel=rbf; total time=   5.0s\n",
      "[CV] END ..............C=30, coef0=1, gamma=0.01, kernel=rbf; total time=   4.9s\n",
      "[CV] END ..............C=30, coef0=1, gamma=0.01, kernel=rbf; total time=   4.8s\n",
      "[CV] END .............C=30, coef0=1, gamma=0.01, kernel=poly; total time=   3.6s\n",
      "[CV] END .............C=30, coef0=1, gamma=0.01, kernel=poly; total time=   3.8s\n",
      "[CV] END .............C=30, coef0=1, gamma=0.01, kernel=poly; total time=   3.1s\n",
      "[CV] END .............C=30, coef0=1, gamma=0.001, kernel=rbf; total time=   3.0s\n",
      "[CV] END .............C=30, coef0=1, gamma=0.001, kernel=rbf; total time=   3.3s\n",
      "[CV] END .............C=30, coef0=1, gamma=0.001, kernel=rbf; total time=   3.5s\n",
      "[CV] END ............C=30, coef0=1, gamma=0.001, kernel=poly; total time=   2.4s\n",
      "[CV] END ............C=30, coef0=1, gamma=0.001, kernel=poly; total time=   2.2s\n",
      "[CV] END ............C=30, coef0=1, gamma=0.001, kernel=poly; total time=   2.2s\n",
      "[CV] END .............C=30, coef0=1, gamma=0.002, kernel=rbf; total time=   3.2s\n",
      "[CV] END .............C=30, coef0=1, gamma=0.002, kernel=rbf; total time=   3.3s\n",
      "[CV] END .............C=30, coef0=1, gamma=0.002, kernel=rbf; total time=   3.2s\n",
      "[CV] END ............C=30, coef0=1, gamma=0.002, kernel=poly; total time=   3.3s\n",
      "[CV] END ............C=30, coef0=1, gamma=0.002, kernel=poly; total time=   3.2s\n",
      "[CV] END ............C=30, coef0=1, gamma=0.002, kernel=poly; total time=   3.2s\n",
      "[CV] END .............C=30, coef0=1, gamma=0.005, kernel=rbf; total time=   4.5s\n",
      "[CV] END .............C=30, coef0=1, gamma=0.005, kernel=rbf; total time=   4.4s\n",
      "[CV] END .............C=30, coef0=1, gamma=0.005, kernel=rbf; total time=   4.5s\n",
      "[CV] END ............C=30, coef0=1, gamma=0.005, kernel=poly; total time=   4.3s\n",
      "[CV] END ............C=30, coef0=1, gamma=0.005, kernel=poly; total time=   4.2s\n",
      "[CV] END ............C=30, coef0=1, gamma=0.005, kernel=poly; total time=   3.8s\n",
      "[CV] END ...............C=50, coef0=0, gamma=0.1, kernel=rbf; total time=   4.2s\n",
      "[CV] END ...............C=50, coef0=0, gamma=0.1, kernel=rbf; total time=   4.0s\n",
      "[CV] END ...............C=50, coef0=0, gamma=0.1, kernel=rbf; total time=   4.1s\n",
      "[CV] END ..............C=50, coef0=0, gamma=0.1, kernel=poly; total time=   2.9s\n",
      "[CV] END ..............C=50, coef0=0, gamma=0.1, kernel=poly; total time=   3.1s\n",
      "[CV] END ..............C=50, coef0=0, gamma=0.1, kernel=poly; total time=   3.1s\n",
      "[CV] END ..............C=50, coef0=0, gamma=0.05, kernel=rbf; total time=   4.0s\n",
      "[CV] END ..............C=50, coef0=0, gamma=0.05, kernel=rbf; total time=   4.1s\n",
      "[CV] END ..............C=50, coef0=0, gamma=0.05, kernel=rbf; total time=   4.0s\n",
      "[CV] END .............C=50, coef0=0, gamma=0.05, kernel=poly; total time=   2.6s\n",
      "[CV] END .............C=50, coef0=0, gamma=0.05, kernel=poly; total time=   2.5s\n",
      "[CV] END .............C=50, coef0=0, gamma=0.05, kernel=poly; total time=   2.5s\n",
      "[CV] END ..............C=50, coef0=0, gamma=0.01, kernel=rbf; total time=   3.7s\n",
      "[CV] END ..............C=50, coef0=0, gamma=0.01, kernel=rbf; total time=   3.5s\n",
      "[CV] END ..............C=50, coef0=0, gamma=0.01, kernel=rbf; total time=   3.5s\n",
      "[CV] END .............C=50, coef0=0, gamma=0.01, kernel=poly; total time=   2.3s\n",
      "[CV] END .............C=50, coef0=0, gamma=0.01, kernel=poly; total time=   2.2s\n",
      "[CV] END .............C=50, coef0=0, gamma=0.01, kernel=poly; total time=   2.4s\n",
      "[CV] END .............C=50, coef0=0, gamma=0.001, kernel=rbf; total time=   2.6s\n",
      "[CV] END .............C=50, coef0=0, gamma=0.001, kernel=rbf; total time=   2.6s\n",
      "[CV] END .............C=50, coef0=0, gamma=0.001, kernel=rbf; total time=   2.6s\n",
      "[CV] END ............C=50, coef0=0, gamma=0.001, kernel=poly; total time=   2.0s\n",
      "[CV] END ............C=50, coef0=0, gamma=0.001, kernel=poly; total time=   2.2s\n",
      "[CV] END ............C=50, coef0=0, gamma=0.001, kernel=poly; total time=   2.0s\n",
      "[CV] END .............C=50, coef0=0, gamma=0.002, kernel=rbf; total time=   3.0s\n",
      "[CV] END .............C=50, coef0=0, gamma=0.002, kernel=rbf; total time=   3.0s\n",
      "[CV] END .............C=50, coef0=0, gamma=0.002, kernel=rbf; total time=   2.9s\n",
      "[CV] END ............C=50, coef0=0, gamma=0.002, kernel=poly; total time=   2.1s\n",
      "[CV] END ............C=50, coef0=0, gamma=0.002, kernel=poly; total time=   2.1s\n",
      "[CV] END ............C=50, coef0=0, gamma=0.002, kernel=poly; total time=   2.1s\n",
      "[CV] END .............C=50, coef0=0, gamma=0.005, kernel=rbf; total time=   3.4s\n",
      "[CV] END .............C=50, coef0=0, gamma=0.005, kernel=rbf; total time=   3.4s\n",
      "[CV] END .............C=50, coef0=0, gamma=0.005, kernel=rbf; total time=   3.5s\n",
      "[CV] END ............C=50, coef0=0, gamma=0.005, kernel=poly; total time=   2.2s\n",
      "[CV] END ............C=50, coef0=0, gamma=0.005, kernel=poly; total time=   2.2s\n",
      "[CV] END ............C=50, coef0=0, gamma=0.005, kernel=poly; total time=   2.2s\n",
      "[CV] END ...............C=50, coef0=1, gamma=0.1, kernel=rbf; total time=   3.4s\n",
      "[CV] END ...............C=50, coef0=1, gamma=0.1, kernel=rbf; total time=   3.4s\n",
      "[CV] END ...............C=50, coef0=1, gamma=0.1, kernel=rbf; total time=   3.4s\n",
      "[CV] END ..............C=50, coef0=1, gamma=0.1, kernel=poly; total time=   2.1s\n",
      "[CV] END ..............C=50, coef0=1, gamma=0.1, kernel=poly; total time=   2.1s\n",
      "[CV] END ..............C=50, coef0=1, gamma=0.1, kernel=poly; total time=   2.0s\n",
      "[CV] END ..............C=50, coef0=1, gamma=0.05, kernel=rbf; total time=   3.5s\n",
      "[CV] END ..............C=50, coef0=1, gamma=0.05, kernel=rbf; total time=   3.3s\n",
      "[CV] END ..............C=50, coef0=1, gamma=0.05, kernel=rbf; total time=   3.3s\n",
      "[CV] END .............C=50, coef0=1, gamma=0.05, kernel=poly; total time=   2.0s\n",
      "[CV] END .............C=50, coef0=1, gamma=0.05, kernel=poly; total time=   2.1s\n",
      "[CV] END .............C=50, coef0=1, gamma=0.05, kernel=poly; total time=   2.0s\n",
      "[CV] END ..............C=50, coef0=1, gamma=0.01, kernel=rbf; total time=   3.5s\n",
      "[CV] END ..............C=50, coef0=1, gamma=0.01, kernel=rbf; total time=   3.5s\n",
      "[CV] END ..............C=50, coef0=1, gamma=0.01, kernel=rbf; total time=   3.5s\n",
      "[CV] END .............C=50, coef0=1, gamma=0.01, kernel=poly; total time=   2.7s\n",
      "[CV] END .............C=50, coef0=1, gamma=0.01, kernel=poly; total time=   2.9s\n",
      "[CV] END .............C=50, coef0=1, gamma=0.01, kernel=poly; total time=   2.8s\n",
      "[CV] END .............C=50, coef0=1, gamma=0.001, kernel=rbf; total time=   2.7s\n",
      "[CV] END .............C=50, coef0=1, gamma=0.001, kernel=rbf; total time=   2.6s\n",
      "[CV] END .............C=50, coef0=1, gamma=0.001, kernel=rbf; total time=   2.6s\n",
      "[CV] END ............C=50, coef0=1, gamma=0.001, kernel=poly; total time=   2.1s\n",
      "[CV] END ............C=50, coef0=1, gamma=0.001, kernel=poly; total time=   2.1s\n",
      "[CV] END ............C=50, coef0=1, gamma=0.001, kernel=poly; total time=   2.1s\n",
      "[CV] END .............C=50, coef0=1, gamma=0.002, kernel=rbf; total time=   3.0s\n",
      "[CV] END .............C=50, coef0=1, gamma=0.002, kernel=rbf; total time=   2.9s\n",
      "[CV] END .............C=50, coef0=1, gamma=0.002, kernel=rbf; total time=   3.5s\n",
      "[CV] END ............C=50, coef0=1, gamma=0.002, kernel=poly; total time=   2.8s\n",
      "[CV] END ............C=50, coef0=1, gamma=0.002, kernel=poly; total time=   2.8s\n",
      "[CV] END ............C=50, coef0=1, gamma=0.002, kernel=poly; total time=   2.7s\n",
      "[CV] END .............C=50, coef0=1, gamma=0.005, kernel=rbf; total time=   3.4s\n",
      "[CV] END .............C=50, coef0=1, gamma=0.005, kernel=rbf; total time=   3.4s\n",
      "[CV] END .............C=50, coef0=1, gamma=0.005, kernel=rbf; total time=   3.3s\n",
      "[CV] END ............C=50, coef0=1, gamma=0.005, kernel=poly; total time=   3.4s\n",
      "[CV] END ............C=50, coef0=1, gamma=0.005, kernel=poly; total time=   3.3s\n",
      "[CV] END ............C=50, coef0=1, gamma=0.005, kernel=poly; total time=   3.3s\n"
     ]
    },
    {
     "data": {
      "text/html": [
       "<style>#sk-container-id-1 {color: black;background-color: white;}#sk-container-id-1 pre{padding: 0;}#sk-container-id-1 div.sk-toggleable {background-color: white;}#sk-container-id-1 label.sk-toggleable__label {cursor: pointer;display: block;width: 100%;margin-bottom: 0;padding: 0.3em;box-sizing: border-box;text-align: center;}#sk-container-id-1 label.sk-toggleable__label-arrow:before {content: \"▸\";float: left;margin-right: 0.25em;color: #696969;}#sk-container-id-1 label.sk-toggleable__label-arrow:hover:before {color: black;}#sk-container-id-1 div.sk-estimator:hover label.sk-toggleable__label-arrow:before {color: black;}#sk-container-id-1 div.sk-toggleable__content {max-height: 0;max-width: 0;overflow: hidden;text-align: left;background-color: #f0f8ff;}#sk-container-id-1 div.sk-toggleable__content pre {margin: 0.2em;color: black;border-radius: 0.25em;background-color: #f0f8ff;}#sk-container-id-1 input.sk-toggleable__control:checked~div.sk-toggleable__content {max-height: 200px;max-width: 100%;overflow: auto;}#sk-container-id-1 input.sk-toggleable__control:checked~label.sk-toggleable__label-arrow:before {content: \"▾\";}#sk-container-id-1 div.sk-estimator input.sk-toggleable__control:checked~label.sk-toggleable__label {background-color: #d4ebff;}#sk-container-id-1 div.sk-label input.sk-toggleable__control:checked~label.sk-toggleable__label {background-color: #d4ebff;}#sk-container-id-1 input.sk-hidden--visually {border: 0;clip: rect(1px 1px 1px 1px);clip: rect(1px, 1px, 1px, 1px);height: 1px;margin: -1px;overflow: hidden;padding: 0;position: absolute;width: 1px;}#sk-container-id-1 div.sk-estimator {font-family: monospace;background-color: #f0f8ff;border: 1px dotted black;border-radius: 0.25em;box-sizing: border-box;margin-bottom: 0.5em;}#sk-container-id-1 div.sk-estimator:hover {background-color: #d4ebff;}#sk-container-id-1 div.sk-parallel-item::after {content: \"\";width: 100%;border-bottom: 1px solid gray;flex-grow: 1;}#sk-container-id-1 div.sk-label:hover label.sk-toggleable__label {background-color: #d4ebff;}#sk-container-id-1 div.sk-serial::before {content: \"\";position: absolute;border-left: 1px solid gray;box-sizing: border-box;top: 0;bottom: 0;left: 50%;z-index: 0;}#sk-container-id-1 div.sk-serial {display: flex;flex-direction: column;align-items: center;background-color: white;padding-right: 0.2em;padding-left: 0.2em;position: relative;}#sk-container-id-1 div.sk-item {position: relative;z-index: 1;}#sk-container-id-1 div.sk-parallel {display: flex;align-items: stretch;justify-content: center;background-color: white;position: relative;}#sk-container-id-1 div.sk-item::before, #sk-container-id-1 div.sk-parallel-item::before {content: \"\";position: absolute;border-left: 1px solid gray;box-sizing: border-box;top: 0;bottom: 0;left: 50%;z-index: -1;}#sk-container-id-1 div.sk-parallel-item {display: flex;flex-direction: column;z-index: 1;position: relative;background-color: white;}#sk-container-id-1 div.sk-parallel-item:first-child::after {align-self: flex-end;width: 50%;}#sk-container-id-1 div.sk-parallel-item:last-child::after {align-self: flex-start;width: 50%;}#sk-container-id-1 div.sk-parallel-item:only-child::after {width: 0;}#sk-container-id-1 div.sk-dashed-wrapped {border: 1px dashed gray;margin: 0 0.4em 0.5em 0.4em;box-sizing: border-box;padding-bottom: 0.4em;background-color: white;}#sk-container-id-1 div.sk-label label {font-family: monospace;font-weight: bold;display: inline-block;line-height: 1.2em;}#sk-container-id-1 div.sk-label-container {text-align: center;}#sk-container-id-1 div.sk-container {/* jupyter's `normalize.less` sets `[hidden] { display: none; }` but bootstrap.min.css set `[hidden] { display: none !important; }` so we also need the `!important` here to be able to override the default hidden behavior on the sphinx rendered scikit-learn.org. See: https://github.com/scikit-learn/scikit-learn/issues/21755 */display: inline-block !important;position: relative;}#sk-container-id-1 div.sk-text-repr-fallback {display: none;}</style><div id=\"sk-container-id-1\" class=\"sk-top-container\"><div class=\"sk-text-repr-fallback\"><pre>GridSearchCV(cv=3, estimator=SVC(probability=True),\n",
       "             param_grid={&#x27;C&#x27;: [0.5, 1, 10, 20, 30, 50], &#x27;coef0&#x27;: [0, 1],\n",
       "                         &#x27;gamma&#x27;: [0.1, 0.05, 0.01, 0.001, 0.002, 0.005],\n",
       "                         &#x27;kernel&#x27;: [&#x27;rbf&#x27;, &#x27;poly&#x27;]},\n",
       "             scoring=&#x27;accuracy&#x27;, verbose=2)</pre><b>In a Jupyter environment, please rerun this cell to show the HTML representation or trust the notebook. <br />On GitHub, the HTML representation is unable to render, please try loading this page with nbviewer.org.</b></div><div class=\"sk-container\" hidden><div class=\"sk-item sk-dashed-wrapped\"><div class=\"sk-label-container\"><div class=\"sk-label sk-toggleable\"><input class=\"sk-toggleable__control sk-hidden--visually\" id=\"sk-estimator-id-1\" type=\"checkbox\" ><label for=\"sk-estimator-id-1\" class=\"sk-toggleable__label sk-toggleable__label-arrow\">GridSearchCV</label><div class=\"sk-toggleable__content\"><pre>GridSearchCV(cv=3, estimator=SVC(probability=True),\n",
       "             param_grid={&#x27;C&#x27;: [0.5, 1, 10, 20, 30, 50], &#x27;coef0&#x27;: [0, 1],\n",
       "                         &#x27;gamma&#x27;: [0.1, 0.05, 0.01, 0.001, 0.002, 0.005],\n",
       "                         &#x27;kernel&#x27;: [&#x27;rbf&#x27;, &#x27;poly&#x27;]},\n",
       "             scoring=&#x27;accuracy&#x27;, verbose=2)</pre></div></div></div><div class=\"sk-parallel\"><div class=\"sk-parallel-item\"><div class=\"sk-item\"><div class=\"sk-label-container\"><div class=\"sk-label sk-toggleable\"><input class=\"sk-toggleable__control sk-hidden--visually\" id=\"sk-estimator-id-2\" type=\"checkbox\" ><label for=\"sk-estimator-id-2\" class=\"sk-toggleable__label sk-toggleable__label-arrow\">estimator: SVC</label><div class=\"sk-toggleable__content\"><pre>SVC(probability=True)</pre></div></div></div><div class=\"sk-serial\"><div class=\"sk-item\"><div class=\"sk-estimator sk-toggleable\"><input class=\"sk-toggleable__control sk-hidden--visually\" id=\"sk-estimator-id-3\" type=\"checkbox\" ><label for=\"sk-estimator-id-3\" class=\"sk-toggleable__label sk-toggleable__label-arrow\">SVC</label><div class=\"sk-toggleable__content\"><pre>SVC(probability=True)</pre></div></div></div></div></div></div></div></div></div></div>"
      ],
      "text/plain": [
       "GridSearchCV(cv=3, estimator=SVC(probability=True),\n",
       "             param_grid={'C': [0.5, 1, 10, 20, 30, 50], 'coef0': [0, 1],\n",
       "                         'gamma': [0.1, 0.05, 0.01, 0.001, 0.002, 0.005],\n",
       "                         'kernel': ['rbf', 'poly']},\n",
       "             scoring='accuracy', verbose=2)"
      ]
     },
     "execution_count": 12,
     "metadata": {},
     "output_type": "execute_result"
    }
   ],
   "source": [
    "model_grid.fit(x_train,y_train)"
   ]
  },
  {
   "cell_type": "code",
   "execution_count": 13,
   "id": "a1c8c3ac",
   "metadata": {},
   "outputs": [
    {
     "data": {
      "text/plain": [
       "{'C': 10, 'coef0': 0, 'gamma': 0.005, 'kernel': 'rbf'}"
      ]
     },
     "execution_count": 13,
     "metadata": {},
     "output_type": "execute_result"
    }
   ],
   "source": [
    "model_grid.best_params_"
   ]
  },
  {
   "cell_type": "code",
   "execution_count": 14,
   "id": "50cc6c65",
   "metadata": {},
   "outputs": [],
   "source": [
    "model_final = model_grid.best_estimator_"
   ]
  },
  {
   "cell_type": "code",
   "execution_count": 15,
   "id": "ff79a814",
   "metadata": {},
   "outputs": [
    {
     "data": {
      "text/plain": [
       "{'C': 10,\n",
       " 'break_ties': False,\n",
       " 'cache_size': 200,\n",
       " 'class_weight': None,\n",
       " 'coef0': 0,\n",
       " 'decision_function_shape': 'ovr',\n",
       " 'degree': 3,\n",
       " 'gamma': 0.005,\n",
       " 'kernel': 'rbf',\n",
       " 'max_iter': -1,\n",
       " 'probability': True,\n",
       " 'random_state': None,\n",
       " 'shrinking': True,\n",
       " 'tol': 0.001,\n",
       " 'verbose': False}"
      ]
     },
     "execution_count": 15,
     "metadata": {},
     "output_type": "execute_result"
    }
   ],
   "source": [
    "model_final.get_params()"
   ]
  },
  {
   "attachments": {},
   "cell_type": "markdown",
   "id": "ed19c6ad",
   "metadata": {},
   "source": [
    "### Model Evaluation\n",
    "- Classification Report\n",
    "    - Precision, Recall, F1-Score\n",
    "- Kappa Score\n",
    "    - -ve (worst model)\n",
    "    - 0 to 0.5 (bad model)\n",
    "    - 0.5 to 0.7 (Good Model)\n",
    "    - 0.7 to 0.9 (Excellent Model)\n",
    "    - 0.9 to 1.0 (Perfect Model)\n",
    "- AUC\n",
    "    - Less than 0.5 (Worst Model)\n",
    "    - 0.5 to 0.6 (Bad Model)\n",
    "    - 0.6 to 0.8 (Good Model)\n",
    "    - 0.8 to 0.9 (Excellent Model)\n",
    "    - 0.9 to 1.0 (Perfect Model)"
   ]
  },
  {
   "cell_type": "code",
   "execution_count": 16,
   "id": "014ce0eb",
   "metadata": {},
   "outputs": [],
   "source": [
    "y_pred = model_final.predict(x_test) # predicted values"
   ]
  },
  {
   "cell_type": "code",
   "execution_count": 17,
   "id": "2eaf36e3",
   "metadata": {},
   "outputs": [
    {
     "data": {
      "text/plain": [
       "array(['female', 'female', 'male', 'male', 'male', 'female', 'female',\n",
       "       'female', 'male', 'female', 'male', 'female', 'female', 'female',\n",
       "       'male', 'female', 'female', 'male', 'female', 'female', 'female',\n",
       "       'male', 'male', 'female', 'female', 'female', 'male', 'female',\n",
       "       'male', 'female', 'male', 'male', 'male', 'male', 'female',\n",
       "       'female', 'male', 'male', 'male', 'female', 'male', 'male', 'male',\n",
       "       'male', 'female', 'female', 'male', 'male', 'male', 'female',\n",
       "       'female', 'female', 'male', 'male', 'male', 'female', 'male',\n",
       "       'female', 'male', 'male', 'female', 'male', 'female', 'male',\n",
       "       'male', 'female', 'female', 'female', 'female', 'female', 'female',\n",
       "       'female', 'male', 'male', 'female', 'female', 'female', 'male',\n",
       "       'female', 'female', 'female', 'male', 'male', 'female', 'female',\n",
       "       'female', 'male', 'female', 'female', 'female', 'male', 'male',\n",
       "       'male', 'female', 'female', 'female', 'male', 'female', 'female',\n",
       "       'female', 'female', 'male', 'male', 'male', 'female', 'female',\n",
       "       'male', 'male', 'female', 'male', 'male', 'male', 'female',\n",
       "       'female', 'female', 'female', 'male', 'male', 'female', 'male',\n",
       "       'male', 'female', 'male', 'male', 'female', 'male', 'male', 'male',\n",
       "       'female', 'female', 'male', 'female', 'female', 'male', 'male',\n",
       "       'male', 'female', 'male', 'female', 'female', 'female', 'female',\n",
       "       'male', 'female', 'male', 'male', 'male', 'female', 'male',\n",
       "       'female', 'male', 'female', 'female', 'male', 'female', 'female',\n",
       "       'male', 'female', 'female', 'female', 'female', 'male', 'female',\n",
       "       'female', 'male', 'female', 'female', 'female', 'male', 'female',\n",
       "       'female', 'female', 'female', 'female', 'female', 'female', 'male',\n",
       "       'male', 'male', 'male', 'female', 'male', 'female', 'male',\n",
       "       'female', 'female', 'male', 'male', 'male', 'female', 'female',\n",
       "       'female', 'male', 'female', 'female', 'male', 'male', 'male',\n",
       "       'male', 'male', 'male', 'female', 'male', 'female', 'female',\n",
       "       'female', 'female', 'female', 'female', 'male', 'female', 'male',\n",
       "       'male', 'female', 'female', 'female', 'male', 'male', 'male',\n",
       "       'male', 'male', 'male', 'female', 'male', 'female', 'female',\n",
       "       'female', 'male', 'male', 'male', 'female', 'male', 'male',\n",
       "       'female', 'female', 'male', 'male', 'female', 'female', 'male',\n",
       "       'female', 'male', 'female', 'male', 'male', 'female', 'male',\n",
       "       'female', 'male', 'male', 'female', 'female', 'male', 'female',\n",
       "       'female', 'male', 'female', 'male', 'male', 'female', 'female',\n",
       "       'female', 'female', 'female', 'male', 'female', 'male', 'male',\n",
       "       'female', 'female', 'female', 'female', 'female', 'male', 'female',\n",
       "       'female', 'male', 'female', 'female', 'female', 'male', 'male',\n",
       "       'female', 'female', 'female', 'male', 'female', 'female', 'female',\n",
       "       'male', 'male', 'female', 'female', 'female', 'female', 'female',\n",
       "       'female', 'male', 'female', 'male', 'female', 'female', 'female',\n",
       "       'male', 'male', 'male', 'male', 'male', 'male', 'male', 'male',\n",
       "       'male', 'male', 'female', 'male', 'female', 'male', 'male',\n",
       "       'female', 'female', 'female', 'male', 'male', 'male', 'male',\n",
       "       'female', 'female', 'female', 'female', 'male', 'female', 'male',\n",
       "       'female', 'female', 'male', 'female', 'male', 'male', 'male',\n",
       "       'female', 'female', 'male', 'female', 'female', 'male', 'female',\n",
       "       'male', 'female', 'male', 'female', 'female', 'female', 'female',\n",
       "       'male', 'male', 'female', 'female', 'male', 'male', 'female',\n",
       "       'female', 'female', 'female', 'female', 'male', 'female', 'female',\n",
       "       'female', 'female', 'male', 'male', 'female', 'male', 'female',\n",
       "       'female', 'female', 'female', 'female', 'female', 'female', 'male',\n",
       "       'male', 'female', 'female', 'female', 'female', 'female', 'female',\n",
       "       'male', 'male', 'female', 'female', 'male', 'female', 'male',\n",
       "       'male', 'male', 'male', 'female', 'male', 'male', 'male', 'female',\n",
       "       'female', 'female', 'female', 'male', 'male', 'male', 'male',\n",
       "       'male', 'female', 'female', 'female', 'female', 'male', 'female',\n",
       "       'female', 'female', 'male', 'female', 'female', 'female', 'female',\n",
       "       'female', 'male', 'male', 'female', 'male', 'male', 'female',\n",
       "       'female', 'male', 'male', 'female', 'female', 'female', 'female',\n",
       "       'male', 'male', 'female', 'female', 'male', 'male', 'male', 'male',\n",
       "       'male', 'female', 'male', 'female', 'male', 'female', 'female',\n",
       "       'male', 'male', 'female', 'female', 'male', 'female', 'female',\n",
       "       'female', 'female', 'female', 'female', 'male', 'female', 'female',\n",
       "       'female', 'female', 'female', 'female', 'female', 'female', 'male',\n",
       "       'female', 'female', 'female', 'female', 'female', 'male', 'female',\n",
       "       'female', 'female', 'female', 'female', 'male', 'male', 'male',\n",
       "       'male', 'female', 'female', 'female', 'female', 'female', 'female',\n",
       "       'male', 'male', 'female', 'female', 'male', 'female', 'female',\n",
       "       'male', 'male', 'male', 'male', 'female', 'male', 'male', 'female',\n",
       "       'female', 'male', 'female', 'female', 'female', 'male', 'male',\n",
       "       'male', 'male', 'female', 'male', 'female', 'female', 'female',\n",
       "       'male', 'male', 'female', 'female', 'male', 'male', 'female',\n",
       "       'female', 'female', 'female', 'female', 'female', 'female',\n",
       "       'female', 'female', 'female', 'female', 'male', 'male', 'female',\n",
       "       'female', 'male', 'male', 'male', 'female', 'male', 'male', 'male',\n",
       "       'male', 'male', 'male', 'male', 'female', 'male', 'male', 'male',\n",
       "       'male', 'female', 'male', 'male', 'male', 'female', 'male', 'male',\n",
       "       'male', 'female', 'male', 'male', 'female', 'female', 'female',\n",
       "       'male', 'female', 'female', 'female', 'male', 'female', 'female',\n",
       "       'female', 'female', 'male', 'female', 'male', 'female', 'female',\n",
       "       'male', 'male', 'female', 'male', 'male', 'female', 'female',\n",
       "       'male', 'male', 'male', 'male', 'female', 'female', 'female',\n",
       "       'male', 'female', 'male', 'male', 'male', 'male', 'female',\n",
       "       'female', 'female', 'male', 'female', 'female', 'female', 'female',\n",
       "       'female', 'male', 'male', 'female', 'female', 'female', 'female',\n",
       "       'female', 'male', 'female', 'male', 'female', 'male', 'male',\n",
       "       'male', 'female', 'male', 'female', 'male', 'male', 'male',\n",
       "       'female', 'female', 'female', 'male', 'male', 'female', 'female',\n",
       "       'female', 'male', 'female', 'male', 'female', 'female', 'female',\n",
       "       'female', 'male', 'male', 'male', 'male', 'male', 'female',\n",
       "       'female', 'male', 'female', 'male', 'male', 'female', 'female',\n",
       "       'male', 'female', 'male', 'female', 'female', 'female', 'female',\n",
       "       'female', 'male', 'female', 'female', 'female', 'male', 'female',\n",
       "       'male', 'male', 'male', 'female', 'male', 'female', 'male', 'male',\n",
       "       'female', 'female', 'female', 'male', 'male', 'female', 'male',\n",
       "       'male', 'male', 'male', 'female', 'male', 'female', 'female',\n",
       "       'male', 'male', 'female', 'female', 'male', 'female', 'female',\n",
       "       'male', 'female', 'male', 'female', 'male', 'female', 'female',\n",
       "       'female', 'female', 'male', 'female', 'female', 'female', 'male',\n",
       "       'female', 'male', 'female', 'female', 'male', 'female', 'male',\n",
       "       'female', 'male', 'male', 'male', 'male', 'female', 'male',\n",
       "       'female', 'male', 'male', 'female', 'male', 'female', 'male',\n",
       "       'female', 'male', 'male', 'female', 'female', 'male', 'male',\n",
       "       'female', 'male', 'male', 'male', 'female', 'female', 'male',\n",
       "       'female', 'female', 'female', 'male', 'female', 'male', 'male',\n",
       "       'female', 'male', 'male', 'male', 'female', 'female', 'male',\n",
       "       'male', 'female', 'female', 'female', 'male', 'female', 'female',\n",
       "       'male', 'female', 'female', 'female', 'female', 'female', 'female',\n",
       "       'male', 'female', 'male', 'male', 'female', 'male', 'female',\n",
       "       'female', 'female', 'female', 'male', 'female', 'female', 'male',\n",
       "       'female', 'male', 'female', 'male', 'male', 'male', 'female',\n",
       "       'female', 'male', 'male', 'female', 'male', 'male', 'female',\n",
       "       'male', 'female', 'male', 'female', 'female', 'female', 'female',\n",
       "       'male', 'female', 'male', 'female', 'female', 'female', 'female',\n",
       "       'male', 'female', 'female', 'female', 'female', 'male', 'female',\n",
       "       'female', 'male', 'female', 'female', 'female', 'male', 'female',\n",
       "       'male', 'female', 'male', 'female', 'male', 'female', 'female',\n",
       "       'male', 'female', 'male', 'female', 'male', 'female', 'female',\n",
       "       'female', 'female', 'male', 'female', 'male', 'female', 'female',\n",
       "       'male'], dtype=object)"
      ]
     },
     "execution_count": 17,
     "metadata": {},
     "output_type": "execute_result"
    }
   ],
   "source": [
    "y_pred"
   ]
  },
  {
   "attachments": {},
   "cell_type": "markdown",
   "id": "70b94646",
   "metadata": {},
   "source": [
    "**Classification Report**"
   ]
  },
  {
   "cell_type": "code",
   "execution_count": 18,
   "id": "1e9157ab",
   "metadata": {},
   "outputs": [
    {
     "data": {
      "text/html": [
       "<div>\n",
       "<style scoped>\n",
       "    .dataframe tbody tr th:only-of-type {\n",
       "        vertical-align: middle;\n",
       "    }\n",
       "\n",
       "    .dataframe tbody tr th {\n",
       "        vertical-align: top;\n",
       "    }\n",
       "\n",
       "    .dataframe thead th {\n",
       "        text-align: right;\n",
       "    }\n",
       "</style>\n",
       "<table border=\"1\" class=\"dataframe\">\n",
       "  <thead>\n",
       "    <tr style=\"text-align: right;\">\n",
       "      <th></th>\n",
       "      <th>precision</th>\n",
       "      <th>recall</th>\n",
       "      <th>f1-score</th>\n",
       "      <th>support</th>\n",
       "    </tr>\n",
       "  </thead>\n",
       "  <tbody>\n",
       "    <tr>\n",
       "      <th>female</th>\n",
       "      <td>0.821206</td>\n",
       "      <td>0.826360</td>\n",
       "      <td>0.823775</td>\n",
       "      <td>478.000000</td>\n",
       "    </tr>\n",
       "    <tr>\n",
       "      <th>male</th>\n",
       "      <td>0.783290</td>\n",
       "      <td>0.777202</td>\n",
       "      <td>0.780234</td>\n",
       "      <td>386.000000</td>\n",
       "    </tr>\n",
       "    <tr>\n",
       "      <th>accuracy</th>\n",
       "      <td>0.804398</td>\n",
       "      <td>0.804398</td>\n",
       "      <td>0.804398</td>\n",
       "      <td>0.804398</td>\n",
       "    </tr>\n",
       "    <tr>\n",
       "      <th>macro avg</th>\n",
       "      <td>0.802248</td>\n",
       "      <td>0.801781</td>\n",
       "      <td>0.802004</td>\n",
       "      <td>864.000000</td>\n",
       "    </tr>\n",
       "    <tr>\n",
       "      <th>weighted avg</th>\n",
       "      <td>0.804266</td>\n",
       "      <td>0.804398</td>\n",
       "      <td>0.804323</td>\n",
       "      <td>864.000000</td>\n",
       "    </tr>\n",
       "  </tbody>\n",
       "</table>\n",
       "</div>"
      ],
      "text/plain": [
       "              precision    recall  f1-score     support\n",
       "female         0.821206  0.826360  0.823775  478.000000\n",
       "male           0.783290  0.777202  0.780234  386.000000\n",
       "accuracy       0.804398  0.804398  0.804398    0.804398\n",
       "macro avg      0.802248  0.801781  0.802004  864.000000\n",
       "weighted avg   0.804266  0.804398  0.804323  864.000000"
      ]
     },
     "execution_count": 18,
     "metadata": {},
     "output_type": "execute_result"
    }
   ],
   "source": [
    "cr = metrics.classification_report(y_test,y_pred,output_dict=True)\n",
    "pd.DataFrame(cr).T"
   ]
  },
  {
   "attachments": {},
   "cell_type": "markdown",
   "id": "77e9b417",
   "metadata": {},
   "source": [
    "**Kappa Score**"
   ]
  },
  {
   "cell_type": "code",
   "execution_count": 19,
   "id": "69e524d7",
   "metadata": {},
   "outputs": [
    {
     "data": {
      "text/plain": [
       "0.6040136681672723"
      ]
     },
     "execution_count": 19,
     "metadata": {},
     "output_type": "execute_result"
    }
   ],
   "source": [
    "metrics.cohen_kappa_score(y_test,y_pred)"
   ]
  },
  {
   "attachments": {},
   "cell_type": "markdown",
   "id": "aedd54d4",
   "metadata": {},
   "source": [
    "**Area Under Curve (AUC)**"
   ]
  },
  {
   "cell_type": "code",
   "execution_count": 20,
   "id": "1a287288",
   "metadata": {},
   "outputs": [
    {
     "data": {
      "text/plain": [
       "0.8017809525874217"
      ]
     },
     "execution_count": 20,
     "metadata": {},
     "output_type": "execute_result"
    }
   ],
   "source": [
    "metrics.roc_auc_score(np.where(y_test==\"male\",1,0),\n",
    "                      np.where(y_pred==\"male\",1,0))"
   ]
  },
  {
   "attachments": {},
   "cell_type": "markdown",
   "id": "5fd227a5",
   "metadata": {},
   "source": [
    "#### Save Face Recognition Model"
   ]
  },
  {
   "cell_type": "code",
   "execution_count": 21,
   "id": "eb27566f",
   "metadata": {},
   "outputs": [],
   "source": [
    "import pickle"
   ]
  },
  {
   "cell_type": "code",
   "execution_count": 22,
   "id": "fa9cfb56",
   "metadata": {},
   "outputs": [],
   "source": [
    "pickle.dump(model_final,open('./model/model_svm.pickle',mode='wb'))"
   ]
  },
  {
   "cell_type": "code",
   "execution_count": null,
   "id": "981f6422",
   "metadata": {},
   "outputs": [],
   "source": []
  },
  {
   "cell_type": "code",
   "execution_count": 23,
   "id": "dea62b86",
   "metadata": {},
   "outputs": [],
   "source": [
    "import matplotlib.pyplot as plt\n",
    "import seaborn as sns"
   ]
  },
  {
   "cell_type": "code",
   "execution_count": 24,
   "id": "0a3b181e",
   "metadata": {},
   "outputs": [],
   "source": [
    "cv_results = pd.DataFrame(model_grid.cv_results_)"
   ]
  },
  {
   "cell_type": "code",
   "execution_count": 25,
   "id": "c5293ea8",
   "metadata": {},
   "outputs": [],
   "source": [
    "param = ['param_C','param_coef0','param_gamma','param_kernel']\n",
    "cv_results = cv_results[param+['mean_test_score']]\n",
    "cv_results[param] = cv_results[param].astype(str)"
   ]
  },
  {
   "cell_type": "code",
   "execution_count": 26,
   "id": "5df75558",
   "metadata": {},
   "outputs": [
    {
     "data": {
      "image/png": "[encoded data removed]",
      "text/plain": [
       "<Figure size 1000x1000 with 4 Axes>"
      ]
     },
     "metadata": {},
     "output_type": "display_data"
    }
   ],
   "source": [
    "plt.figure(figsize=(10,10))\n",
    "for i, par in enumerate(param):\n",
    "    plt.subplot(2,2,i+1)\n",
    "    sns.kdeplot(data=cv_results,x='mean_test_score',hue=par)"
   ]
  },
  {
   "cell_type": "code",
   "execution_count": 27,
   "id": "420525d0",
   "metadata": {},
   "outputs": [
    {
     "data": {
      "text/plain": [
       "{'C': 10, 'coef0': 0, 'gamma': 0.005, 'kernel': 'rbf'}"
      ]
     },
     "execution_count": 27,
     "metadata": {},
     "output_type": "execute_result"
    }
   ],
   "source": [
    "model_grid.best_params_"
   ]
  }
 ],
 "metadata": {
  "kernelspec": {
   "display_name": "Python 3 (ipykernel)",
   "language": "python",
   "name": "python3"
  },
  "language_info": {
   "codemirror_mode": {
    "name": "ipython",
    "version": 3
   },
   "file_extension": ".py",
   "mimetype": "text/x-python",
   "name": "python",
   "nbconvert_exporter": "python",
   "pygments_lexer": "ipython3",
   "version": "3.10.3"
  }
 },
 "nbformat": 4,
 "nbformat_minor": 5
}
