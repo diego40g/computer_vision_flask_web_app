{
 "cells": [
  {
   "cell_type": "code",
   "execution_count": 1,
   "metadata": {},
   "outputs": [],
   "source": [
    "import numpy as np          #numeric python\n",
    "import matplotlib.pyplot as plt    #visual library"
   ]
  },
  {
   "cell_type": "code",
   "execution_count": 2,
   "metadata": {},
   "outputs": [
    {
     "data": {
      "text/plain": [
       "(-0.5, 15.5, 15.5, -0.5)"
      ]
     },
     "execution_count": 2,
     "metadata": {},
     "output_type": "execute_result"
    },
    {
     "data": {
      "image/png": "[encoded data removed]",
      "text/plain": [
       "<Figure size 432x288 with 1 Axes>"
      ]
     },
     "metadata": {
      "needs_background": "light"
     },
     "output_type": "display_data"
    }
   ],
   "source": [
    "# random matrix (16x16)\n",
    "arr = np.random.randint(low=0,high=255,size=(16,16),dtype=np.uint8)\n",
    "plt.imshow(arr,cmap='gray')\n",
    "plt.axis('off')"
   ]
  },
  {
   "cell_type": "code",
   "execution_count": 3,
   "metadata": {},
   "outputs": [
    {
     "data": {
      "text/plain": [
       "array([[  2, 100,  60, 158, 116, 100, 229,  75,  99,  98, 159,  59,  89,\n",
       "         16,  19, 205],\n",
       "       [108,   0,  35, 201, 166, 250, 208, 222, 196, 102,  69, 133, 115,\n",
       "        222,  99, 113],\n",
       "       [240,  86, 110, 192,  82,  40, 140, 218, 213, 103, 232, 132,  16,\n",
       "        127, 218, 104],\n",
       "       [186, 248, 240, 148, 158,  50, 158, 247,  26,  57, 194, 190,  95,\n",
       "         72,   3,  24],\n",
       "       [ 29, 234,  15, 168, 150,  24,  33,  62, 182, 204,  75, 155, 190,\n",
       "         76, 223, 180],\n",
       "       [143,  33,  32, 153, 173, 163, 129, 208,  48, 170,  65, 134, 248,\n",
       "         83, 196,  63],\n",
       "       [ 89,   4, 109, 104,  69,  17,  11, 173, 235, 226, 144, 224, 245,\n",
       "        171,  70, 228],\n",
       "       [ 24, 238, 200,   4, 175, 207,  40, 138, 252,   8, 144, 231,  13,\n",
       "        120, 164, 118],\n",
       "       [173, 145,  15,  36, 152,   4, 205,  48,  34, 239,  73, 124, 201,\n",
       "        215, 190,  51],\n",
       "       [ 68,  11,  40, 244, 251,   3, 128,   3, 221, 105, 183, 218, 119,\n",
       "        228,   6, 235],\n",
       "       [ 98,  73, 105, 146, 242, 222, 219, 138, 215,  35, 200,  52, 119,\n",
       "        115, 233,  36],\n",
       "       [ 59, 243,  91, 236, 168, 249, 228,  70, 177, 170,  81,  78, 216,\n",
       "        185, 221,  74],\n",
       "       [169, 114,  22, 165,  93, 182, 113, 203,  91,  56, 108, 254, 192,\n",
       "        100, 171, 169],\n",
       "       [189,  19,  47, 206, 162, 147, 144, 124, 231, 142, 135,   8, 178,\n",
       "        111, 132, 243],\n",
       "       [ 41, 245, 237, 105,  37, 108,  88, 235,  94, 159, 126, 139, 108,\n",
       "         49, 122, 247],\n",
       "       [240,  22, 203,  84, 151, 233,  17,   3, 144, 219, 115,  83, 151,\n",
       "        175, 225, 218]], dtype=uint8)"
      ]
     },
     "execution_count": 3,
     "metadata": {},
     "output_type": "execute_result"
    }
   ],
   "source": [
    "arr"
   ]
  },
  {
   "cell_type": "code",
   "execution_count": null,
   "metadata": {},
   "outputs": [],
   "source": []
  }
 ],
 "metadata": {
  "kernelspec": {
   "display_name": "Python 3",
   "language": "python",
   "name": "python3"
  },
  "language_info": {
   "codemirror_mode": {
    "name": "ipython",
    "version": 3
   },
   "file_extension": ".py",
   "mimetype": "text/x-python",
   "name": "python",
   "nbconvert_exporter": "python",
   "pygments_lexer": "ipython3",
   "version": "3.7.6"
  }
 },
 "nbformat": 4,
 "nbformat_minor": 4
}
