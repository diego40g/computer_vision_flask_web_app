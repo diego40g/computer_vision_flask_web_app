{
 "cells": [
  {
   "cell_type": "code",
   "execution_count": 1,
   "metadata": {},
   "outputs": [],
   "source": [
    "import numpy as np          #numeric python\n",
    "import matplotlib.pyplot as plt    #visual library"
   ]
  },
  {
   "cell_type": "code",
   "execution_count": 3,
   "metadata": {},
   "outputs": [
    {
     "data": {
      "text/plain": [
       "(-0.5, 15.5, 15.5, -0.5)"
      ]
     },
     "execution_count": 3,
     "metadata": {},
     "output_type": "execute_result"
    },
    {
     "data": {
      "image/png": "[encoded data removed]",
      "text/plain": [
       "<Figure size 432x288 with 1 Axes>"
      ]
     },
     "metadata": {
      "needs_background": "light"
     },
     "output_type": "display_data"
    }
   ],
   "source": [
    "# random matrix (16x16)\n",
    "arr = np.random.randint(low=0,high=255,size=(16,16),dtype=np.uint8)\n",
    "plt.imshow(arr,cmap='gray')\n",
    "plt.axis('off')"
   ]
  },
  {
   "cell_type": "code",
   "execution_count": 4,
   "metadata": {},
   "outputs": [
    {
     "data": {
      "text/plain": [
       "array([[169,  21, 235, 164,  17,  57, 129,  53,  55,  68, 130,   4,  58,\n",
       "        189, 207,  38],\n",
       "       [156, 143,  72, 200, 154,   2,  10, 133, 194,  29, 129,  12,  73,\n",
       "         27, 116,  67],\n",
       "       [232, 138, 215, 185, 240, 128,  42,  51, 163,  44,  32,  79,  91,\n",
       "         28, 236, 224],\n",
       "       [ 55, 219, 186, 147,  46,  28, 104,  16, 185, 122,  93, 193,  39,\n",
       "        117, 205, 124],\n",
       "       [ 37,  52, 169, 227,  19, 187,  22, 130,  82,  79, 212,  80, 243,\n",
       "        213,  96, 107],\n",
       "       [148, 109, 208,  80, 200, 121, 183,   1,  12,  32,  73, 235, 234,\n",
       "         58,  88,  98],\n",
       "       [211, 153, 221,  77,  36,  13,  10, 252, 173, 168, 146, 178, 213,\n",
       "        142,  59, 105],\n",
       "       [204,  21,  22, 236,  99,  25,  16,  67, 210,   8, 227, 115, 186,\n",
       "         74, 158,  77],\n",
       "       [ 35,  77,  65, 120, 188,  39, 244, 221, 227, 103, 181,  91,  27,\n",
       "        214,  28,  45],\n",
       "       [169, 201, 157,  41, 209, 156,  51, 151,  22, 205,   6, 101,  33,\n",
       "        135, 241, 183],\n",
       "       [ 41,  89, 206, 223, 225,  71, 211, 141,  29,  91, 106,  37, 176,\n",
       "        158, 155, 220],\n",
       "       [124, 212, 205, 125, 120, 161, 143, 234,  50, 152,  32, 214,  94,\n",
       "        192,   6,  78],\n",
       "       [159,  18, 181,  55, 201, 134, 139,  42, 208, 211,  61,  98, 132,\n",
       "         90, 202, 156],\n",
       "       [ 60,  85, 170, 161, 246,  42,  73, 198, 212,  73, 171,  55,  24,\n",
       "         19, 169,  98],\n",
       "       [227, 207,  89,  97, 231,  49, 197,  44, 101,  39, 244,  84, 197,\n",
       "        202,  51,  31],\n",
       "       [ 57, 127, 118, 224,  94, 169,  61, 205,  60, 149, 146, 171, 213,\n",
       "         24, 133,  83]], dtype=uint8)"
      ]
     },
     "execution_count": 4,
     "metadata": {},
     "output_type": "execute_result"
    }
   ],
   "source": [
    "arr"
   ]
  },
  {
   "cell_type": "code",
   "execution_count": null,
   "metadata": {},
   "outputs": [],
   "source": []
  }
 ],
 "metadata": {
  "kernelspec": {
   "display_name": "Python 3",
   "language": "python",
   "name": "python3"
  },
  "language_info": {
   "codemirror_mode": {
    "name": "ipython",
    "version": 3
   },
   "file_extension": ".py",
   "mimetype": "text/x-python",
   "name": "python",
   "nbconvert_exporter": "python",
   "pygments_lexer": "ipython3",
   "version": "3.7.6"
  }
 },
 "nbformat": 4,
 "nbformat_minor": 4
}
