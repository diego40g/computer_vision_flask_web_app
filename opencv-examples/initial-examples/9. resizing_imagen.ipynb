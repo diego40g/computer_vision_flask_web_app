{
 "cells": [
  {
   "cell_type": "code",
   "execution_count": 1,
   "metadata": {},
   "outputs": [],
   "source": [
    "import numpy as np\n",
    "import cv2"
   ]
  },
  {
   "cell_type": "code",
   "execution_count": 2,
   "metadata": {},
   "outputs": [
    {
     "name": "stdout",
     "output_type": "stream",
     "text": [
      "(480, 640, 3)\n"
     ]
    }
   ],
   "source": [
    "#Loading image\n",
    "img = cv2.imread('./data/flying_bird.jpg')\n",
    "print(img.shape)\n",
    "cv2.imshow('original',img)\n",
    "cv2.waitKey(0)\n",
    "cv2.destroyAllWindows()"
   ]
  },
  {
   "cell_type": "markdown",
   "metadata": {},
   "source": [
    "###\n",
    "1. Shink the image\n",
    "2. Enlarge the image"
   ]
  },
  {
   "cell_type": "code",
   "execution_count": 3,
   "metadata": {},
   "outputs": [],
   "source": [
    "# shinking image\n",
    "# width=colums\n",
    "# height=rows\n",
    "width=320\n",
    "height=240\n",
    "img_shink = cv2.resize(img,dsize=(width,height),interpolation=cv2.INTER_AREA)"
   ]
  },
  {
   "cell_type": "code",
   "execution_count": 4,
   "metadata": {},
   "outputs": [],
   "source": [
    "#enlarge 2 metodos\n",
    "#cv2.INTER_CUBIC / cv2.INTER_LINEAR\n",
    "w=1200\n",
    "h=960\n",
    "img_zoom_cubic=cv2.resize(img,dsize=(w,h),interpolation=cv2.INTER_CUBIC)\n",
    "img_zoom_liner=cv2.resize(img,dsize=(w,h),interpolation=cv2.INTER_LINEAR)"
   ]
  },
  {
   "cell_type": "code",
   "execution_count": 5,
   "metadata": {},
   "outputs": [
    {
     "data": {
      "text/plain": [
       "((240, 320, 3),\n",
       " array([[[22, 49, 93],\n",
       "         [21, 48, 92],\n",
       "         [20, 47, 91],\n",
       "         ...,\n",
       "         [ 0, 11, 10],\n",
       "         [ 0, 14, 13],\n",
       "         [ 0, 16, 15]],\n",
       " \n",
       "        [[20, 47, 91],\n",
       "         [20, 47, 91],\n",
       "         [19, 46, 90],\n",
       "         ...,\n",
       "         [ 0, 12, 11],\n",
       "         [ 0, 14, 13],\n",
       "         [ 0, 15, 14]],\n",
       " \n",
       "        [[18, 45, 89],\n",
       "         [17, 45, 88],\n",
       "         [17, 44, 87],\n",
       "         ...,\n",
       "         [ 0, 14, 13],\n",
       "         [ 0, 14, 13],\n",
       "         [ 0, 13, 12]],\n",
       " \n",
       "        ...,\n",
       " \n",
       "        [[37, 62, 92],\n",
       "         [37, 63, 93],\n",
       "         [37, 63, 93],\n",
       "         ...,\n",
       "         [ 3, 98, 74],\n",
       "         [ 2, 97, 73],\n",
       "         [ 1, 97, 73]],\n",
       " \n",
       "        [[36, 62, 92],\n",
       "         [36, 62, 92],\n",
       "         [35, 61, 91],\n",
       "         ...,\n",
       "         [ 2, 97, 73],\n",
       "         [ 1, 97, 73],\n",
       "         [ 1, 97, 73]],\n",
       " \n",
       "        [[36, 62, 92],\n",
       "         [35, 61, 91],\n",
       "         [34, 60, 90],\n",
       "         ...,\n",
       "         [ 1, 97, 73],\n",
       "         [ 1, 97, 73],\n",
       "         [ 1, 97, 73]]], dtype=uint8),\n",
       " array([[[21, 48, 92],\n",
       "         [20, 47, 91],\n",
       "         [19, 46, 90],\n",
       "         ...,\n",
       "         [ 0, 11, 10],\n",
       "         [ 0, 14, 13],\n",
       "         [ 0, 15, 14]],\n",
       " \n",
       "        [[20, 47, 91],\n",
       "         [19, 46, 90],\n",
       "         [18, 45, 89],\n",
       "         ...,\n",
       "         [ 0, 13, 12],\n",
       "         [ 0, 14, 13],\n",
       "         [ 0, 15, 14]],\n",
       " \n",
       "        [[18, 45, 89],\n",
       "         [18, 45, 89],\n",
       "         [17, 44, 88],\n",
       "         ...,\n",
       "         [ 1, 15, 14],\n",
       "         [ 0, 14, 13],\n",
       "         [ 0, 14, 13]],\n",
       " \n",
       "        ...,\n",
       " \n",
       "        [[36, 62, 92],\n",
       "         [36, 62, 92],\n",
       "         [37, 63, 93],\n",
       "         ...,\n",
       "         [ 2, 98, 74],\n",
       "         [ 1, 97, 73],\n",
       "         [ 1, 97, 73]],\n",
       " \n",
       "        [[36, 62, 92],\n",
       "         [36, 62, 92],\n",
       "         [35, 61, 91],\n",
       "         ...,\n",
       "         [ 1, 97, 73],\n",
       "         [ 1, 97, 73],\n",
       "         [ 1, 97, 73]],\n",
       " \n",
       "        [[36, 62, 92],\n",
       "         [35, 61, 91],\n",
       "         [34, 60, 90],\n",
       "         ...,\n",
       "         [ 1, 97, 73],\n",
       "         [ 1, 97, 73],\n",
       "         [ 1, 97, 73]]], dtype=uint8))"
      ]
     },
     "execution_count": 5,
     "metadata": {},
     "output_type": "execute_result"
    }
   ],
   "source": [
    "img_shink.shape, img_zoom_cubic, img_zoom_liner"
   ]
  },
  {
   "cell_type": "code",
   "execution_count": 6,
   "metadata": {},
   "outputs": [],
   "source": [
    "cv2.imshow('original',img)\n",
    "cv2.imshow('shink',img_shink)\n",
    "cv2.imshow('zoom cubic',img_zoom_cubic)\n",
    "cv2.imshow('zoom linear',img_zoom_liner)\n",
    "\n",
    "\n",
    "cv2.waitKey(0)\n",
    "cv2.destroyAllWindows()"
   ]
  }
 ],
 "metadata": {
  "kernelspec": {
   "display_name": "Python 3.10.4 ('env': venv)",
   "language": "python",
   "name": "python3"
  },
  "language_info": {
   "codemirror_mode": {
    "name": "ipython",
    "version": 3
   },
   "file_extension": ".py",
   "mimetype": "text/x-python",
   "name": "python",
   "nbconvert_exporter": "python",
   "pygments_lexer": "ipython3",
   "version": "3.10.4"
  },
  "orig_nbformat": 4,
  "vscode": {
   "interpreter": {
    "hash": "7b7c69cd756d1e240da1769a557641491b6d628af5bd51791285adbe1bbe510c"
   }
  }
 },
 "nbformat": 4,
 "nbformat_minor": 2
}
