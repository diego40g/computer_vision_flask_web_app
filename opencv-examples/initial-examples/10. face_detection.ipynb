{
 "cells": [
  {
   "cell_type": "code",
   "execution_count": 17,
   "metadata": {},
   "outputs": [],
   "source": [
    "import numpy as np\n",
    "import cv2"
   ]
  },
  {
   "cell_type": "code",
   "execution_count": 18,
   "metadata": {},
   "outputs": [],
   "source": [
    "img = cv2.imread('./data/friends.jpg')\n",
    "img_copy =img.copy()\n",
    "\n",
    "\n",
    "cv2.imshow('Imagen',img)\n",
    "cv2.waitKey(0)\n",
    "cv2.destroyAllWindows()"
   ]
  },
  {
   "cell_type": "code",
   "execution_count": 19,
   "metadata": {},
   "outputs": [],
   "source": [
    "# Load cascade classifier\n",
    "haar = cv2.CascadeClassifier('./data/haarcascade_frontalface_default.xml')"
   ]
  },
  {
   "cell_type": "code",
   "execution_count": 20,
   "metadata": {},
   "outputs": [],
   "source": [
    "# step-1: convert iamge to grayscale\n",
    "gray = cv2.cvtColor(img,cv2.COLOR_BGR2GRAY)"
   ]
  },
  {
   "cell_type": "code",
   "execution_count": 21,
   "metadata": {},
   "outputs": [
    {
     "name": "stdout",
     "output_type": "stream",
     "text": [
      "[[256  88  98  98]\n",
      " [127 107  97  97]\n",
      " [405  90  99  99]]\n"
     ]
    }
   ],
   "source": [
    "# step-2: apply grayscale image to cascade classifier\n",
    "face_rect = haar.detectMultiScale(gray,1.3,5)\n",
    "print(face_rect)"
   ]
  },
  {
   "cell_type": "code",
   "execution_count": 22,
   "metadata": {},
   "outputs": [],
   "source": [
    "# step-3: draw bounding box\n",
    "from email.mime import image\n",
    "\n",
    "\n",
    "for x,y,w,h in face_rect:\n",
    "    cv2.rectangle(img, (x,y),(x+w,y+h),(0,255,0),2)\n",
    "\n",
    "cv2.imshow('detected faces',img)\n",
    "cv2.waitKey(0)\n",
    "cv2.destroyAllWindows()"
   ]
  }
 ],
 "metadata": {
  "kernelspec": {
   "display_name": "Python 3.10.4 ('env': venv)",
   "language": "python",
   "name": "python3"
  },
  "language_info": {
   "codemirror_mode": {
    "name": "ipython",
    "version": 3
   },
   "file_extension": ".py",
   "mimetype": "text/x-python",
   "name": "python",
   "nbconvert_exporter": "python",
   "pygments_lexer": "ipython3",
   "version": "3.10.4"
  },
  "orig_nbformat": 4,
  "vscode": {
   "interpreter": {
    "hash": "7b7c69cd756d1e240da1769a557641491b6d628af5bd51791285adbe1bbe510c"
   }
  }
 },
 "nbformat": 4,
 "nbformat_minor": 2
}
