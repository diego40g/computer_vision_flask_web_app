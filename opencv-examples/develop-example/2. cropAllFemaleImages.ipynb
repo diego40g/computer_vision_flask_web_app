{
 "cells": [
  {
   "cell_type": "code",
   "execution_count": 1,
   "metadata": {},
   "outputs": [],
   "source": [
    "import numpy as np\n",
    "import cv2\n",
    "from glob import glob\n",
    "import matplotlib.pyplot as plt"
   ]
  },
  {
   "cell_type": "code",
   "execution_count": 2,
   "metadata": {},
   "outputs": [],
   "source": [
    "#import cascade classifier face detection\n",
    "haar = cv2.CascadeClassifier('./data/haarcascade_frontalface_default.xml')"
   ]
  },
  {
   "cell_type": "code",
   "execution_count": 3,
   "metadata": {},
   "outputs": [],
   "source": [
    "#import path image\n",
    "fpath = glob('./data/female/*.jpg')"
   ]
  },
  {
   "cell_type": "code",
   "execution_count": 6,
   "metadata": {},
   "outputs": [
    {
     "name": "stdout",
     "output_type": "stream",
     "text": [
      "Imagen 0 procesada con exito\n",
      "Imagen 1 procesada con exito\n",
      "Imagen 1 procesada con exito\n",
      "Imagen 2 procesada con exito\n",
      "Imagen 3 procesada con exito\n",
      "Imagen 4 procesada con exito\n"
     ]
    }
   ],
   "source": [
    "for i in range(len(fpath)):\n",
    "    try:\n",
    "        if i == 5: #for testing\n",
    "            break\n",
    "        ### step -1 Read Image and Convert to RGB\n",
    "        img = cv2.imread(fpath[i]) #read image in BGR\n",
    "        img_rgb = cv2.cvtColor(img,cv2.COLOR_BGR2RGB) #conver RGB to BGR\n",
    "        ### step -2 Apply Haar Cascade Classifier\n",
    "        gray = cv2.cvtColor(img_rgb,cv2.COLOR_BGR2GRAY)\n",
    "        faces_list = haar.detectMultiScale(gray,1.5,5)\n",
    "        for x,y,w,h in faces_list:\n",
    "            ### step -3 Crop Face\n",
    "            roi = img[y:y+h,x:x+w]\n",
    "            ### step -4 Save Image\n",
    "            cv2.imwrite(f'./crop_data/female/femala_{i}.jpg',roi)\n",
    "            print(f'Imagen {i} procesada con exito')\n",
    "    except:\n",
    "        print(f'Incapaz de procesar la imagen {i}')"
   ]
  }
 ],
 "metadata": {
  "kernelspec": {
   "display_name": "Python 3.10.4 ('env': venv)",
   "language": "python",
   "name": "python3"
  },
  "language_info": {
   "codemirror_mode": {
    "name": "ipython",
    "version": 3
   },
   "file_extension": ".py",
   "mimetype": "text/x-python",
   "name": "python",
   "nbconvert_exporter": "python",
   "pygments_lexer": "ipython3",
   "version": "3.10.4"
  },
  "orig_nbformat": 4,
  "vscode": {
   "interpreter": {
    "hash": "7b7c69cd756d1e240da1769a557641491b6d628af5bd51791285adbe1bbe510c"
   }
  }
 },
 "nbformat": 4,
 "nbformat_minor": 2
}
